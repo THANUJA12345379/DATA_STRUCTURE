{
  "nbformat": 4,
  "nbformat_minor": 0,
  "metadata": {
    "colab": {
      "provenance": []
    },
    "kernelspec": {
      "name": "python3",
      "display_name": "Python 3"
    },
    "language_info": {
      "name": "python"
    }
  },
  "cells": [
    {
      "cell_type": "code",
      "execution_count": null,
      "metadata": {
        "colab": {
          "base_uri": "https://localhost:8080/"
        },
        "id": "5vBeamw36IYc",
        "outputId": "c070f828-ee6b-40ac-b0f5-55a795ca8671"
      },
      "outputs": [
        {
          "output_type": "stream",
          "name": "stdout",
          "text": [
            "[ 6  3  0 20 10  5]\n"
          ]
        }
      ],
      "source": [
        "#reverse an array without using any in built function\n",
        "\n",
        "import numpy as np\n",
        "x=np.array([5,10,20,0,3,6])\n",
        "print(x[::-1])#slicing method"
      ]
    },
    {
      "cell_type": "code",
      "source": [
        "#using loop reversing an array\n",
        "import numpy as np\n",
        "x=np.array([5,10,20,0,3,6])\n",
        "n=len(x)\n",
        "for i in range (n-1,-1,-1):\n",
        "  print(x[i])\n",
        "\n"
      ],
      "metadata": {
        "colab": {
          "base_uri": "https://localhost:8080/"
        },
        "id": "bCaRBOxd6r8Z",
        "outputId": "0e36ef29-35ae-4827-bb89-a32fc9358b8c"
      },
      "execution_count": null,
      "outputs": [
        {
          "output_type": "stream",
          "name": "stdout",
          "text": [
            "6\n",
            "3\n",
            "0\n",
            "20\n",
            "10\n",
            "5\n"
          ]
        }
      ]
    },
    {
      "cell_type": "code",
      "source": [
        "#remove duplicates from an array\n",
        "#hint set and list\n",
        "import numpy as np\n",
        "x=np.array([5,10,20,10,3,6,6])\n",
        "#use looping and membership operator\n",
        "def remove_duplicates(arr):\n",
        "  new_arr=[]\n",
        "  for i in arr:\n",
        "    if i not in new_arr:\n",
        "      new_arr.append(i)\n",
        "  return new_arr\n",
        "result=remove_duplicates(x)\n",
        "print(result)\n",
        "\n"
      ],
      "metadata": {
        "colab": {
          "base_uri": "https://localhost:8080/"
        },
        "id": "ujCA0vMK7ucH",
        "outputId": "86db6fd8-b684-49e8-e194-0e4a992bfa47"
      },
      "execution_count": null,
      "outputs": [
        {
          "output_type": "stream",
          "name": "stdout",
          "text": [
            "[5, 10, 20, 3, 6]\n"
          ]
        }
      ]
    },
    {
      "cell_type": "code",
      "source": [
        "#remove duplicates from an array\n",
        "#using type coversion\n",
        "import numpy as np\n",
        "x=np.array([5,10,20,10,3,6,6])\n",
        "def r_dup(x):\n",
        "  res=list(set(x))\n",
        "  return np.array(res)\n",
        "result=r_dup(x)\n",
        "type(result)\n",
        "print(result)"
      ],
      "metadata": {
        "colab": {
          "base_uri": "https://localhost:8080/"
        },
        "id": "HyzlcBgT-Kl-",
        "outputId": "0f612a9f-0840-4805-c652-0bd173be00d2"
      },
      "execution_count": null,
      "outputs": [
        {
          "output_type": "stream",
          "name": "stdout",
          "text": [
            "[ 3  5  6 10 20]\n"
          ]
        }
      ]
    }
  ]
}
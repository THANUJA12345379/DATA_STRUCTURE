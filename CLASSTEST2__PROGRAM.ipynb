{
  "nbformat": 4,
  "nbformat_minor": 0,
  "metadata": {
    "colab": {
      "provenance": []
    },
    "kernelspec": {
      "name": "python3",
      "display_name": "Python 3"
    },
    "language_info": {
      "name": "python"
    }
  },
  "cells": [
    {
      "cell_type": "code",
      "execution_count": 1,
      "metadata": {
        "colab": {
          "base_uri": "https://localhost:8080/"
        },
        "id": "1JB2HoR1OxFk",
        "outputId": "8441a488-158e-413e-8360-0c8a5d2dd3a6"
      },
      "outputs": [
        {
          "output_type": "stream",
          "name": "stdout",
          "text": [
            "[0, 1, 1, 2, 3, 5, 8, 13, 21, 34]\n"
          ]
        }
      ],
      "source": [
        "#Iterative Approach\n",
        "#Using a loop to generate the Fibonacci series:\n",
        "def fibonacci_iterative(n):\n",
        "    fib_sequence = [0, 1]\n",
        "    for i in range(2, n):\n",
        "        next_fib = fib_sequence[i - 1] + fib_sequence[i - 2]\n",
        "        fib_sequence.append(next_fib)\n",
        "    return fib_sequence\n",
        "print(fibonacci_iterative(10))\n"
      ]
    },
    {
      "cell_type": "code",
      "source": [
        "#Recursive Approach\n",
        "#Using recursion to generate the Fibonacci series:\n",
        "\n",
        "def fibonacci_recursive(n):\n",
        "    if n <= 0:\n",
        "        return []\n",
        "    elif n == 1:\n",
        "        return [0]\n",
        "    elif n == 2:\n",
        "        return [0, 1]\n",
        "    else:\n",
        "        fib_sequence = fibonacci_recursive(n - 1)\n",
        "        next_fib = fib_sequence[-1] + fib_sequence[-2]\n",
        "        fib_sequence.append(next_fib)\n",
        "        return fib_sequence\n",
        "\n",
        "print(fibonacci_recursive(10))\n"
      ],
      "metadata": {
        "colab": {
          "base_uri": "https://localhost:8080/"
        },
        "id": "XlNQnOIXPAM1",
        "outputId": "97ce9cb5-ef82-4893-c1eb-0fa6f6579ea4"
      },
      "execution_count": 2,
      "outputs": [
        {
          "output_type": "stream",
          "name": "stdout",
          "text": [
            "[0, 1, 1, 2, 3, 5, 8, 13, 21, 34]\n"
          ]
        }
      ]
    },
    {
      "cell_type": "code",
      "source": [
        "#TOWER OF HANOI\n",
        "\n",
        "def tower_of_hanoi(n, source, target, auxiliary):\n",
        "    if n == 1:\n",
        "        print(f\"Move disk 1 from {source} to {target}\")\n",
        "        return\n",
        "    tower_of_hanoi(n-1, source, auxiliary, target)\n",
        "    print(f\"Move disk {n} from {source} to {target}\")\n",
        "    tower_of_hanoi(n-1, auxiliary, target, source)\n",
        "\n",
        "tower_of_hanoi(3, 'A', 'C', 'B')\n"
      ],
      "metadata": {
        "colab": {
          "base_uri": "https://localhost:8080/"
        },
        "id": "fDekdYabPPZ5",
        "outputId": "737c9c1c-dc61-4d59-e0d0-dfa6721c535c"
      },
      "execution_count": 3,
      "outputs": [
        {
          "output_type": "stream",
          "name": "stdout",
          "text": [
            "Move disk 1 from A to C\n",
            "Move disk 2 from A to B\n",
            "Move disk 1 from C to B\n",
            "Move disk 3 from A to C\n",
            "Move disk 1 from B to A\n",
            "Move disk 2 from B to C\n",
            "Move disk 1 from A to C\n"
          ]
        }
      ]
    },
    {
      "cell_type": "code",
      "source": [
        "#2D MATRIX[[1,1,1],[1,0,1],[1,1,1]] OUTPUT[[1,0,1],[0,0,0],[1,0,1]]\n",
        "\n",
        "def set_zeroes(matrix):\n",
        "    rows = len(matrix)\n",
        "    cols = len(matrix[0])\n",
        "    zero_positions = [(i, j) for i in range(rows) for j in range(cols) if matrix[i][j] == 0]\n",
        "    for i, j in zero_positions:\n",
        "        for col in range(cols):\n",
        "            matrix[i][col] = 0\n",
        "        for row in range(rows):\n",
        "            matrix[row][j] = 0\n",
        "matrix = [[1, 1, 1], [1, 0, 1], [1, 1, 1]]\n",
        "set_zeroes(matrix)\n",
        "print(matrix)\n"
      ],
      "metadata": {
        "colab": {
          "base_uri": "https://localhost:8080/"
        },
        "id": "2n68R_Z4Ptux",
        "outputId": "35cc0f31-866b-4963-e196-2402cc0a13a8"
      },
      "execution_count": 4,
      "outputs": [
        {
          "output_type": "stream",
          "name": "stdout",
          "text": [
            "[[1, 0, 1], [0, 0, 0], [1, 0, 1]]\n"
          ]
        }
      ]
    },
    {
      "cell_type": "code",
      "source": [
        "#TRANSPOSE OF 2D MATRIX\n",
        "def transpose(matrix):\n",
        "    rows = len(matrix)\n",
        "    cols = len(matrix[0])\n",
        "    transposed = [[0] * rows for _ in range(cols)]\n",
        "\n",
        "    for i in range(rows):\n",
        "        for j in range(cols):\n",
        "            transposed[j][i] = matrix[i][j]\n",
        "\n",
        "    return transposed\n",
        "\n",
        "matrix = [[1, 2, 3], [4, 5, 6], [7, 8, 9]]\n",
        "transposed_matrix = transpose(matrix)\n",
        "print(transposed_matrix)\n"
      ],
      "metadata": {
        "colab": {
          "base_uri": "https://localhost:8080/"
        },
        "id": "LofC0ifnP0Wf",
        "outputId": "1cc83753-835d-497b-e0bb-ca7e75105b15"
      },
      "execution_count": 5,
      "outputs": [
        {
          "output_type": "stream",
          "name": "stdout",
          "text": [
            "[[1, 4, 7], [2, 5, 8], [3, 6, 9]]\n"
          ]
        }
      ]
    }
  ]
}
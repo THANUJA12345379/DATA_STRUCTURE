{
  "nbformat": 4,
  "nbformat_minor": 0,
  "metadata": {
    "colab": {
      "provenance": []
    },
    "kernelspec": {
      "name": "python3",
      "display_name": "Python 3"
    },
    "language_info": {
      "name": "python"
    }
  },
  "cells": [
    {
      "cell_type": "code",
      "source": [],
      "metadata": {
        "id": "cH7jkvzSX6L9"
      },
      "execution_count": null,
      "outputs": []
    },
    {
      "cell_type": "markdown",
      "source": [
        "Creating an array"
      ],
      "metadata": {
        "id": "lgon7UgZX5t4"
      }
    },
    {
      "cell_type": "code",
      "execution_count": null,
      "metadata": {
        "colab": {
          "base_uri": "https://localhost:8080/"
        },
        "id": "b5QRniGrXf63",
        "outputId": "b0d20b09-c3de-45b1-fe54-a89ec83302b3"
      },
      "outputs": [
        {
          "output_type": "stream",
          "name": "stdout",
          "text": [
            "10\n",
            "20\n",
            "30\n",
            "40\n",
            "50\n"
          ]
        }
      ],
      "source": [
        "from array import *\n",
        "array1=array('i',[10,20,30,40,50])\n",
        "for x in array1:\n",
        "  print(x)"
      ]
    },
    {
      "cell_type": "code",
      "source": [
        "#Accessing the array element\n",
        "from array import *\n",
        "array1=array('i',[10,20,30,40,50])\n",
        "print(array1[0])\n",
        "print(array1[1])\n"
      ],
      "metadata": {
        "colab": {
          "base_uri": "https://localhost:8080/"
        },
        "id": "VqR97iS0X4UD",
        "outputId": "455f6c42-0c8f-4dbc-c9e4-7f76b89a90de"
      },
      "execution_count": null,
      "outputs": [
        {
          "output_type": "stream",
          "name": "stdout",
          "text": [
            "10\n",
            "20\n"
          ]
        }
      ]
    },
    {
      "cell_type": "code",
      "source": [
        "#Inserting  operation\n",
        "from array import *\n",
        "array1=array('i',[10,20,30,40,50])\n",
        "array1.insert(1,60)\n",
        "for x in array1:\n",
        "  print(x)\n"
      ],
      "metadata": {
        "colab": {
          "base_uri": "https://localhost:8080/"
        },
        "id": "-5fTLQ7FYUil",
        "outputId": "fc821510-5881-45a6-94b7-de688c659e0a"
      },
      "execution_count": null,
      "outputs": [
        {
          "output_type": "stream",
          "name": "stdout",
          "text": [
            "10\n",
            "60\n",
            "20\n",
            "30\n",
            "40\n",
            "50\n"
          ]
        }
      ]
    },
    {
      "cell_type": "code",
      "source": [
        "#Deleting operation:reorganizing the elements\n",
        "from array import *\n",
        "array1=array('i',[10,20,30,40,50])\n",
        "array1.remove(40)\n",
        "for x in array1:\n",
        "  print(x)\n",
        "\n"
      ],
      "metadata": {
        "colab": {
          "base_uri": "https://localhost:8080/"
        },
        "id": "LKarTfDiYq2t",
        "outputId": "87233f3b-ba53-4925-874c-53dd7041d9c3"
      },
      "execution_count": null,
      "outputs": [
        {
          "output_type": "stream",
          "name": "stdout",
          "text": [
            "10\n",
            "20\n",
            "30\n",
            "50\n"
          ]
        }
      ]
    },
    {
      "cell_type": "code",
      "source": [
        "#searching operaton\n",
        "from array import *\n",
        "array1=array('i',[10,20,30,40,50])\n",
        "print(array1.index(40))"
      ],
      "metadata": {
        "colab": {
          "base_uri": "https://localhost:8080/"
        },
        "id": "0ahDuDe9ZUMj",
        "outputId": "400c2182-a94a-4746-a0d3-9dc50a70d469"
      },
      "execution_count": null,
      "outputs": [
        {
          "output_type": "stream",
          "name": "stdout",
          "text": [
            "3\n"
          ]
        }
      ]
    },
    {
      "cell_type": "code",
      "source": [
        "#Update operation:updating the existing element\n",
        "from array import *\n",
        "array1=array('i',[10,20,30,40,50])\n",
        "array1[2]=80\n",
        "for x in array1:\n",
        "  print(x)\n"
      ],
      "metadata": {
        "colab": {
          "base_uri": "https://localhost:8080/"
        },
        "id": "gzjxBs5OZljR",
        "outputId": "b59bb5b3-d755-4909-8f96-1aaf5e507f8b"
      },
      "execution_count": null,
      "outputs": [
        {
          "output_type": "stream",
          "name": "stdout",
          "text": [
            "10\n",
            "20\n",
            "80\n",
            "40\n",
            "50\n"
          ]
        }
      ]
    },
    {
      "cell_type": "markdown",
      "source": [
        "Excerise 1"
      ],
      "metadata": {
        "id": "J2SwF0JVczIC"
      }
    },
    {
      "cell_type": "code",
      "source": [
        "#find the largest and smallest elements in an array\n",
        "#write a python function thak takes an array of numbers and return the largest and smallest element in the arrray.\n",
        "#use built in functions min(),max()\n",
        "from array import *\n",
        "array1=array('i',[10,20,30,40,50])\n",
        "print(max(array1))\n",
        "print(min(array1))"
      ],
      "metadata": {
        "colab": {
          "base_uri": "https://localhost:8080/"
        },
        "id": "6eH4vG0DaDl5",
        "outputId": "f2e4c091-99f7-4c87-fde8-bc24636d37dd"
      },
      "execution_count": null,
      "outputs": [
        {
          "output_type": "stream",
          "name": "stdout",
          "text": [
            "50\n",
            "10\n"
          ]
        }
      ]
    },
    {
      "cell_type": "code",
      "source": [
        "#Reverse an array\n",
        "#reversing an array without using built in function\n",
        "from array import *\n",
        "array1=array('i',[10,20,30,40,50])\n",
        "array2=array1[::-1]\n",
        "for x in array2:\n",
        "  print(x)\n"
      ],
      "metadata": {
        "colab": {
          "base_uri": "https://localhost:8080/"
        },
        "id": "9i0B2Y98evYJ",
        "outputId": "1b47219e-9d0b-4b97-99e3-ff58e60e221a"
      },
      "execution_count": null,
      "outputs": [
        {
          "output_type": "stream",
          "name": "stdout",
          "text": [
            "50\n",
            "40\n",
            "30\n",
            "20\n",
            "10\n"
          ]
        }
      ]
    },
    {
      "cell_type": "code",
      "source": [
        "#remove duplicates from the array\n",
        "#write a function to remove duplicates from an array and return the result as a new array\n",
        "from array import *\n",
        "array1=array('i',[10,20,30,40,50,10,20,30,40,50])\n",
        "array2=set(array1)\n",
        "print(array2)"
      ],
      "metadata": {
        "colab": {
          "base_uri": "https://localhost:8080/"
        },
        "id": "1Ww_HhFmfRgw",
        "outputId": "e958c5c1-1e4d-4772-f6b8-d239b4d749a2"
      },
      "execution_count": null,
      "outputs": [
        {
          "output_type": "stream",
          "name": "stdout",
          "text": [
            "{40, 10, 50, 20, 30}\n"
          ]
        }
      ]
    },
    {
      "cell_type": "code",
      "source": [
        "#find the index of an element\n",
        "#write a function that takes an array and an element as input and return the index of the array if the lement is not found it should return -1\n",
        "\n",
        "from array import *\n",
        "array1=array('i',[10,20,30,40,50])\n",
        "print(array1.index(50))"
      ],
      "metadata": {
        "colab": {
          "base_uri": "https://localhost:8080/"
        },
        "id": "kdeEl9R1gxq7",
        "outputId": "5f7da547-08e4-425a-9a19-6d5e603cd887"
      },
      "execution_count": null,
      "outputs": [
        {
          "output_type": "stream",
          "name": "stdout",
          "text": [
            "4\n"
          ]
        }
      ]
    },
    {
      "cell_type": "code",
      "source": [
        "#Find the index of an element\n",
        "#write a function that takes an array and an element as input, and returns the index of the element in the array.\n",
        "#if the elemtnt is not found, it should return -1.\n",
        "#hint: use Excrption handling.\n",
        "from array import *\n",
        "array1=array('i',[10,20,30,40,50])\n",
        "try:\n",
        "  print(array1.index(60))\n",
        "except ValueError:\n",
        "  print(-1)\n"
      ],
      "metadata": {
        "colab": {
          "base_uri": "https://localhost:8080/"
        },
        "id": "kFN3-h9HZBYD",
        "outputId": "b6e74264-81d1-4732-9bfb-011367b0515b"
      },
      "execution_count": null,
      "outputs": [
        {
          "output_type": "stream",
          "name": "stdout",
          "text": [
            "-1\n"
          ]
        }
      ]
    },
    {
      "cell_type": "code",
      "source": [
        "def find_index(arr, element):\n",
        "    try:\n",
        "        return arr.index(element)\n",
        "    except ValueError:\n",
        "        return -1\n",
        "\n",
        "# Sample usage\n",
        "arr = [1, 4, 3, 2]\n",
        "element = 3\n",
        "\n",
        "index = find_index(arr, element)\n",
        "print(f\"The index of {element} is: {index}\")  # Output: The index of 3 is: 2\n"
      ],
      "metadata": {
        "colab": {
          "base_uri": "https://localhost:8080/"
        },
        "id": "xjD9C4xfaezg",
        "outputId": "196aa1e5-84e1-4df0-d83f-c74b46f24ab2"
      },
      "execution_count": null,
      "outputs": [
        {
          "output_type": "stream",
          "name": "stdout",
          "text": [
            "The index of 3 is: 2\n"
          ]
        }
      ]
    },
    {
      "cell_type": "markdown",
      "source": [
        "Array insertion\n",
        "#Given two arrays write a python function to find the intersection of both arrays(i,e common elements)\n",
        "#hint:use list and set concept\n"
      ],
      "metadata": {
        "id": "l6GaS_nibxUx"
      }
    },
    {
      "cell_type": "code",
      "source": [
        " #Given two arrays write a python function to find the intersection of both arrays(i,e common elements)\n",
        "#hint:use list and set concept.\n",
        "\n",
        "def find_intersection(arr1, arr2):\n",
        "    # Convert both arrays to sets\n",
        "    set1 = set(arr1)\n",
        "    set2 = set(arr2)\n",
        "\n",
        "    # Find the intersection of both sets\n",
        "    intersection = list(set1 & set2)\n",
        "\n",
        "    return intersection\n",
        "\n",
        "# Sample usage\n",
        "arr1 = [1, 2, 3, 4, 5]\n",
        "arr2 = [4, 5, 6, 7, 8]\n",
        "\n",
        "common_elements = find_intersection(arr1, arr2)\n",
        "print(f\"Common elements: {common_elements}\")  # Output: Common elements: [4, 5]\n",
        "\n"
      ],
      "metadata": {
        "colab": {
          "base_uri": "https://localhost:8080/"
        },
        "id": "vOXsS91aavKY",
        "outputId": "a1351b10-a8fb-4d02-ffce-061f501018be"
      },
      "execution_count": null,
      "outputs": [
        {
          "output_type": "stream",
          "name": "stdout",
          "text": [
            "Common elements: [4, 5]\n"
          ]
        }
      ]
    },
    {
      "cell_type": "code",
      "source": [
        "#Rotation an array\n",
        "#write a function to rotate an array to the right to the right by k positiona.\n",
        "#if array is[1,2,3,4,5]and k=2 the output should be=[4,5,1,2,3]\n",
        "\n",
        "def rotateRight(arr, k):\n",
        "    n = len(arr)\n",
        "    k = k % n  # To handle cases where k is greater than n\n",
        "    return arr[-k:] + arr[:-k]\n",
        "arr = [1, 2, 3, 4, 5]\n",
        "k = 2\n",
        "\n",
        "rotated_arr = rotateRight(arr, k)\n",
        "print(f\"Rotated array: {rotated_arr}\")  # Output: Rotated array: [4, 5, 1, 2, 3]\n",
        "\n"
      ],
      "metadata": {
        "colab": {
          "base_uri": "https://localhost:8080/"
        },
        "id": "HJqRUl0jd0t5",
        "outputId": "9f97dfe9-853f-474e-d098-7bd0d1b9de08"
      },
      "execution_count": null,
      "outputs": [
        {
          "output_type": "stream",
          "name": "stdout",
          "text": [
            "Rotated array: [4, 5, 1, 2, 3]\n"
          ]
        }
      ]
    },
    {
      "cell_type": "code",
      "source": [
        "#create an array\n",
        "import array as arr\n",
        "a=arr.array('i',[2,10,0,15,55])\n",
        "type(x)\n",
        "for i in x:\n",
        "  print(i)"
      ],
      "metadata": {
        "id": "C2VTw1s4fEUL",
        "colab": {
          "base_uri": "https://localhost:8080/"
        },
        "outputId": "78463e99-6079-4238-93c4-50eb4dbf667c"
      },
      "execution_count": null,
      "outputs": [
        {
          "output_type": "stream",
          "name": "stdout",
          "text": [
            "2\n",
            "10\n",
            "0\n",
            "15\n",
            "55\n"
          ]
        }
      ]
    },
    {
      "cell_type": "code",
      "source": [
        "#using numpy\n",
        "import numpy as np\n",
        "x=np.array([2,10,0,15,55])\n",
        "type(x)\n",
        "for i in x:\n",
        "  print(i)\n"
      ],
      "metadata": {
        "colab": {
          "base_uri": "https://localhost:8080/"
        },
        "id": "FkhGijGY0-Ag",
        "outputId": "1ef19991-9226-473e-aa19-ed8d46044bf9"
      },
      "execution_count": null,
      "outputs": [
        {
          "output_type": "stream",
          "name": "stdout",
          "text": [
            "2\n",
            "10\n",
            "0\n",
            "15\n",
            "55\n"
          ]
        }
      ]
    },
    {
      "cell_type": "code",
      "source": [
        "import array as arr\n",
        "x=arr.array('i',[2,10,0,15,555])\n",
        "type(x)\n",
        "for i in x:\n",
        "  print(i)"
      ],
      "metadata": {
        "colab": {
          "base_uri": "https://localhost:8080/"
        },
        "id": "zuqtaL4o1izN",
        "outputId": "a1097a8a-43fd-463a-b199-bc6ace5b40be"
      },
      "execution_count": null,
      "outputs": [
        {
          "output_type": "stream",
          "name": "stdout",
          "text": [
            "2\n",
            "10\n",
            "0\n",
            "15\n",
            "555\n"
          ]
        }
      ]
    },
    {
      "cell_type": "code",
      "source": [
        "import array as arr\n",
        "x=arr.array('i',[2,10,0,15,555])\n",
        "type(x)\n",
        "x.remove(10)\n",
        "for i in x:\n",
        "  print(i)"
      ],
      "metadata": {
        "colab": {
          "base_uri": "https://localhost:8080/"
        },
        "id": "lQBpJf_F3GUj",
        "outputId": "c5a1f0cd-d26c-4336-a857-e7a06b5bc595"
      },
      "execution_count": null,
      "outputs": [
        {
          "output_type": "stream",
          "name": "stdout",
          "text": [
            "2\n",
            "0\n",
            "15\n",
            "555\n"
          ]
        }
      ]
    },
    {
      "cell_type": "code",
      "source": [
        "import array as arr\n",
        "x=arr.array('i',[2,10,0,15,555])\n",
        "x[1]=10\n",
        "for i in x:\n",
        "  print(i)"
      ],
      "metadata": {
        "colab": {
          "base_uri": "https://localhost:8080/"
        },
        "id": "qSZPmJW73Pzk",
        "outputId": "1aa1c4fc-65d9-4e12-f017-9b59170aaf99"
      },
      "execution_count": null,
      "outputs": [
        {
          "output_type": "stream",
          "name": "stdout",
          "text": [
            "2\n",
            "10\n",
            "0\n",
            "15\n",
            "555\n"
          ]
        }
      ]
    },
    {
      "cell_type": "markdown",
      "source": [
        "Excerises problem\n"
      ],
      "metadata": {
        "id": "pR91ETOM5Nb4"
      }
    },
    {
      "cell_type": "code",
      "source": [
        "import numpy as np\n",
        "x=np.array([5,10,20,0,3,6])\n",
        "def excercise1(x):\n",
        "  min_ele=np.min(x)\n",
        "  max_ele=np.max(x)\n",
        "  return min_ele,max_ele\n",
        "result=excercise1(x)\n",
        "print(result)\n"
      ],
      "metadata": {
        "colab": {
          "base_uri": "https://localhost:8080/"
        },
        "id": "kQUzXtZA3bHN",
        "outputId": "e1cb98d5-6968-4606-c52c-cbb76c18bbea"
      },
      "execution_count": null,
      "outputs": [
        {
          "output_type": "stream",
          "name": "stdout",
          "text": [
            "(0, 20)\n"
          ]
        }
      ]
    },
    {
      "cell_type": "code",
      "source": [
        "#find the sum and average\n",
        "\n",
        "import numpy as np\n",
        "x=np.array([5,10,20,0,3,6])\n",
        "def avg(x):\n",
        "  length=len(x)\n",
        "  sum=np.sum(x)\n",
        "  avg=sum/length\n",
        "  return avg,sum\n",
        "result=avg(x)\n",
        "print(result)\n"
      ],
      "metadata": {
        "colab": {
          "base_uri": "https://localhost:8080/"
        },
        "id": "hMyFJ9or5RAx",
        "outputId": "b7123008-e33a-4162-8153-78b74f7a7b01"
      },
      "execution_count": null,
      "outputs": [
        {
          "output_type": "stream",
          "name": "stdout",
          "text": [
            "(7.333333333333333, 44)\n"
          ]
        }
      ]
    }
  ]
}
{
  "nbformat": 4,
  "nbformat_minor": 0,
  "metadata": {
    "colab": {
      "provenance": []
    },
    "kernelspec": {
      "name": "python3",
      "display_name": "Python 3"
    },
    "language_info": {
      "name": "python"
    }
  },
  "cells": [
    {
      "cell_type": "code",
      "execution_count": 1,
      "metadata": {
        "colab": {
          "base_uri": "https://localhost:8080/"
        },
        "id": "C4hxoyLGVGTg",
        "outputId": "ee92c503-f636-4f04-a527-b34ac5b082d1"
      },
      "outputs": [
        {
          "output_type": "stream",
          "name": "stdout",
          "text": [
            "Smallest element: 5\n"
          ]
        }
      ],
      "source": [
        "#Array\n",
        "#Practice questions: Easy\n",
        "#Find the smallest element among N inputted numbers:\n",
        "def find_smallest(numbers):\n",
        "    return min(numbers)\n",
        "\n",
        "\n",
        "numbers = [10, 20, 5, 6, 15]\n",
        "print(\"Smallest element:\", find_smallest(numbers))\n"
      ]
    },
    {
      "cell_type": "code",
      "source": [
        "#Rearrange an array in reverse order without using a second array:\n",
        "\n",
        "def reverse_array(arr):\n",
        "    n = len(arr)\n",
        "    for i in range(n // 2):\n",
        "        arr[i], arr[n - i - 1] = arr[n - i - 1], arr[i]\n",
        "    return arr\n",
        "\n",
        "arr = [1, 2, 3, 4, 5]\n",
        "print(\"Reversed array:\", reverse_array(arr))\n"
      ],
      "metadata": {
        "colab": {
          "base_uri": "https://localhost:8080/"
        },
        "id": "kE9LCOeYVjGZ",
        "outputId": "4ebfbdeb-9e2f-4519-a928-eb991c6b3406"
      },
      "execution_count": 2,
      "outputs": [
        {
          "output_type": "stream",
          "name": "stdout",
          "text": [
            "Reversed array: [5, 4, 3, 2, 1]\n"
          ]
        }
      ]
    },
    {
      "cell_type": "code",
      "source": [
        "#Calculate standard deviation of N numbers:\n",
        "import math\n",
        "\n",
        "def calculate_sd(numbers):\n",
        "    mean = sum(numbers) / len(numbers)\n",
        "    variance = sum((x - mean) ** 2 for x in numbers) / len(numbers)\n",
        "    return math.sqrt(variance)\n",
        "\n",
        "numbers = [10, 20, 30, 40, 50]\n",
        "print(\"Standard Deviation:\", calculate_sd(numbers))\n"
      ],
      "metadata": {
        "colab": {
          "base_uri": "https://localhost:8080/"
        },
        "id": "mlpg61kyVmQP",
        "outputId": "6b83b9de-8e49-4d45-952a-e0f4041980d2"
      },
      "execution_count": 3,
      "outputs": [
        {
          "output_type": "stream",
          "name": "stdout",
          "text": [
            "Standard Deviation: 14.142135623730951\n"
          ]
        }
      ]
    },
    {
      "cell_type": "code",
      "source": [
        "#Count odd numbers in a set of integers:\n",
        "def count_odd_numbers(numbers):\n",
        "    return sum(1 for x in numbers if x % 2 != 0)\n",
        "\n",
        "numbers = [1, 2, 3, 4, 5, 6, 7, 8, 9]\n",
        "print(\"Count of odd numbers:\", count_odd_numbers(numbers))\n"
      ],
      "metadata": {
        "colab": {
          "base_uri": "https://localhost:8080/"
        },
        "id": "abTRoW29Vslc",
        "outputId": "32304f67-7b11-40cf-a80b-bc7245993878"
      },
      "execution_count": 4,
      "outputs": [
        {
          "output_type": "stream",
          "name": "stdout",
          "text": [
            "Count of odd numbers: 5\n"
          ]
        }
      ]
    },
    {
      "cell_type": "code",
      "source": [
        "#Find the largest odd number in a set of integers:\n",
        "def largest_odd_number(numbers):\n",
        "    odd_numbers = [x for x in numbers if x % 2 != 0]\n",
        "    return max(odd_numbers) if odd_numbers else None\n",
        "\n",
        "numbers = [10, 21, 30, 45, 55, 60]\n",
        "print(\"Largest odd number:\", largest_odd_number(numbers))\n"
      ],
      "metadata": {
        "colab": {
          "base_uri": "https://localhost:8080/"
        },
        "id": "8m5y5xzHVzCU",
        "outputId": "2505b51b-7190-4711-9ef9-dd18ce655480"
      },
      "execution_count": 5,
      "outputs": [
        {
          "output_type": "stream",
          "name": "stdout",
          "text": [
            "Largest odd number: 55\n"
          ]
        }
      ]
    },
    {
      "cell_type": "code",
      "source": [
        "#Count the total number of prime numbers in a set of integers:\n",
        "def is_prime(n):\n",
        "    if n <= 1:\n",
        "        return False\n",
        "    for i in range(2, int(n ** 0.5) + 1):\n",
        "        if n % i == 0:\n",
        "            return False\n",
        "    return True\n",
        "\n",
        "def count_prime_numbers(numbers):\n",
        "    return sum(1 for x in numbers if is_prime(x))\n",
        "\n",
        "numbers = [2, 3, 4, 5, 6, 7, 8, 9, 10, 11]\n",
        "print(\"Count of prime numbers:\", count_prime_numbers(numbers))\n"
      ],
      "metadata": {
        "colab": {
          "base_uri": "https://localhost:8080/"
        },
        "id": "AODJEJM_V31n",
        "outputId": "9c5156a2-e6f9-438f-e7ba-7d200bc8d53c"
      },
      "execution_count": 6,
      "outputs": [
        {
          "output_type": "stream",
          "name": "stdout",
          "text": [
            "Count of prime numbers: 5\n"
          ]
        }
      ]
    },
    {
      "cell_type": "code",
      "source": [
        "#Find the second highest element among N inputted numbers:\n",
        "def find_second_highest(numbers):\n",
        "    first, second = float('-inf'), float('-inf')\n",
        "    for x in numbers:\n",
        "        if x > first:\n",
        "            first, second = x, first\n",
        "        elif first > x > second:\n",
        "            second = x\n",
        "    return second\n",
        "\n",
        "numbers = [10, 20, 4, 45, 99, 50]\n",
        "print(\"Second highest element:\", find_second_highest(numbers))\n"
      ],
      "metadata": {
        "colab": {
          "base_uri": "https://localhost:8080/"
        },
        "id": "oIaZI8lkV93M",
        "outputId": "f0d005c5-5703-4b11-b103-438210eb9c1e"
      },
      "execution_count": 7,
      "outputs": [
        {
          "output_type": "stream",
          "name": "stdout",
          "text": [
            "Second highest element: 50\n"
          ]
        }
      ]
    },
    {
      "cell_type": "code",
      "source": [
        "#Find the largest difference in a set of numbers:\n",
        "def largest_difference(numbers):\n",
        "    return max(numbers) - min(numbers)\n",
        "\n",
        "numbers = [10, 15, 23, 5, 6, 99]\n",
        "print(\"Largest difference:\", largest_difference(numbers))\n"
      ],
      "metadata": {
        "colab": {
          "base_uri": "https://localhost:8080/"
        },
        "id": "gK7h5OafWC3z",
        "outputId": "5f661343-e18c-4835-b7fd-b6f3f0e9e973"
      },
      "execution_count": 8,
      "outputs": [
        {
          "output_type": "stream",
          "name": "stdout",
          "text": [
            "Largest difference: 94\n"
          ]
        }
      ]
    },
    {
      "cell_type": "code",
      "source": [
        "#Find the binary equivalent of a decimal number:\n",
        "def decimal_to_binary(n):\n",
        "    return bin(n).replace(\"0b\", \"\")\n",
        "\n",
        "decimal_number = 10\n",
        "print(\"Binary equivalent:\", decimal_to_binary(decimal_number))\n"
      ],
      "metadata": {
        "colab": {
          "base_uri": "https://localhost:8080/"
        },
        "id": "iwPtHCWYWS6J",
        "outputId": "32eae4a1-cb0b-4dca-a7e0-b30ef6513898"
      },
      "execution_count": 9,
      "outputs": [
        {
          "output_type": "stream",
          "name": "stdout",
          "text": [
            "Binary equivalent: 1010\n"
          ]
        }
      ]
    },
    {
      "cell_type": "code",
      "source": [
        "#Delete an element from the k-th position of an array:\n",
        "def delete_element(arr, k):\n",
        "    if k < 0 or k >= len(arr):\n",
        "        return arr\n",
        "    return arr[:k] + arr[k+1:]\n",
        "\n",
        "arr = [1, 2, 3, 4, 5]\n",
        "k = 2\n",
        "print(\"Array after deletion:\", delete_element(arr, k))\n"
      ],
      "metadata": {
        "colab": {
          "base_uri": "https://localhost:8080/"
        },
        "id": "VwsvKYjOWXXe",
        "outputId": "52c47224-67cf-4a58-9d96-241407177ccd"
      },
      "execution_count": 10,
      "outputs": [
        {
          "output_type": "stream",
          "name": "stdout",
          "text": [
            "Array after deletion: [1, 2, 4, 5]\n"
          ]
        }
      ]
    },
    {
      "cell_type": "code",
      "source": [
        "#Insert an element at its proper position in a previously sorted array:\n",
        "def insert_element(arr, element):\n",
        "    arr.append(element)\n",
        "    arr.sort()\n",
        "    return arr\n",
        "\n",
        "arr = [1, 2, 4, 5, 6]\n",
        "element = 3\n",
        "print(\"Array after insertion:\", insert_element(arr, element))\n"
      ],
      "metadata": {
        "colab": {
          "base_uri": "https://localhost:8080/"
        },
        "id": "-sX_ghHEWbMX",
        "outputId": "28b8621e-208b-4c98-dd50-3f5b26930cd3"
      },
      "execution_count": 11,
      "outputs": [
        {
          "output_type": "stream",
          "name": "stdout",
          "text": [
            "Array after insertion: [1, 2, 3, 4, 5, 6]\n"
          ]
        }
      ]
    },
    {
      "cell_type": "code",
      "source": [
        "#Find the union of two sets of numbers:\n",
        "def union_of_sets(set1, set2):\n",
        "    return list(set(set1).union(set(set2)))\n",
        "\n",
        "set1 = [1, 2, 3, 4]\n",
        "set2 = [3, 4, 5, 6]\n",
        "print(\"Union of sets:\", union_of_sets(set1, set2))\n"
      ],
      "metadata": {
        "colab": {
          "base_uri": "https://localhost:8080/"
        },
        "id": "BjVLsNN7WhFZ",
        "outputId": "505ad33d-8174-4b8d-b4a1-e5588036b43e"
      },
      "execution_count": 12,
      "outputs": [
        {
          "output_type": "stream",
          "name": "stdout",
          "text": [
            "Union of sets: [1, 2, 3, 4, 5, 6]\n"
          ]
        }
      ]
    },
    {
      "cell_type": "markdown",
      "source": [],
      "metadata": {
        "id": "DIVDyyZQaR5b"
      }
    },
    {
      "cell_type": "markdown",
      "source": [
        "Practice questions: Intermediate"
      ],
      "metadata": {
        "id": "j1qbPU4Uau4A"
      }
    },
    {
      "cell_type": "code",
      "source": [
        "#Move Zeroes to the End\n",
        "#Problem: Write a function that moves all zeroes in an array to the end\n",
        "#while maintaining the relative order of the non-zero elements.\n",
        "#Input: arr = [0, 1, 0, 3, 12]\n",
        "# Output: [1, 3, 12, 0, 0]\n",
        "\n",
        "def move_zeroes(arr):\n",
        "    non_zero = 0\n",
        "    for i in range(len(arr)):\n",
        "        if arr[i] != 0:\n",
        "            arr[non_zero], arr[i] = arr[i], arr[non_zero]\n",
        "            non_zero += 1\n",
        "    return arr\n",
        "\n",
        "arr = [0, 1, 0, 3, 12]\n",
        "print(\"Array after moving zeroes:\", move_zeroes(arr))\n"
      ],
      "metadata": {
        "colab": {
          "base_uri": "https://localhost:8080/"
        },
        "id": "CVmt_QlEah75",
        "outputId": "a2c6a7ea-87a4-43a8-9c1f-6bafdbfc9204"
      },
      "execution_count": 13,
      "outputs": [
        {
          "output_type": "stream",
          "name": "stdout",
          "text": [
            "Array after moving zeroes: [1, 3, 12, 0, 0]\n"
          ]
        }
      ]
    },
    {
      "cell_type": "code",
      "source": [
        "#Array rotation\n",
        "#Problem : write a python function to rotate an array to the right kth\n",
        "#position.\n",
        "#Input: arr = [1,2,3,4,5]\n",
        "#Output: [4,5,1,2,3]\n",
        "\n",
        "def rotate_array(arr, k):\n",
        "    k = k % len(arr)  # Handle rotation greater than the array length\n",
        "    return arr[-k:] + arr[:-k]\n",
        "\n",
        "arr = [1, 2, 3, 4, 5]\n",
        "k = 2\n",
        "print(\"Array after rotation:\", rotate_array(arr, k))\n"
      ],
      "metadata": {
        "colab": {
          "base_uri": "https://localhost:8080/"
        },
        "id": "oO8pQpq3aw1h",
        "outputId": "febebe51-f3b5-4f41-ccb9-d3f604737d53"
      },
      "execution_count": 14,
      "outputs": [
        {
          "output_type": "stream",
          "name": "stdout",
          "text": [
            "Array after rotation: [4, 5, 1, 2, 3]\n"
          ]
        }
      ]
    },
    {
      "cell_type": "code",
      "source": [
        "#Product of All Elements Except Itself\n",
        "#Problem: Given an array of integers, return a new array such that each\n",
        "#element at index i is the product of all the numbers in the array exceptthe one at i.\n",
        "#Input: arr = [1, 2, 3, 4]\n",
        "#Output: [24, 12, 8, 6]\n",
        "\n",
        "def product_except_self(arr):\n",
        "    n = len(arr)\n",
        "    left_products = [1] * n\n",
        "    right_products = [1] * n\n",
        "\n",
        "    for i in range(1, n):\n",
        "        left_products[i] = left_products[i - 1] * arr[i - 1]\n",
        "\n",
        "    for i in range(n - 2, -1, -1):\n",
        "        right_products[i] = right_products[i + 1] * arr[i + 1]\n",
        "\n",
        "    result = [left_products[i] * right_products[i] for i in range(n)]\n",
        "    return result\n",
        "\n",
        "arr = [1, 2, 3, 4]\n",
        "print(\"Product of all elements except itself:\", product_except_self(arr))\n"
      ],
      "metadata": {
        "colab": {
          "base_uri": "https://localhost:8080/"
        },
        "id": "YQ7N2XNibGPK",
        "outputId": "d9a36c3b-3866-435f-d028-dfbae698ee2a"
      },
      "execution_count": 15,
      "outputs": [
        {
          "output_type": "stream",
          "name": "stdout",
          "text": [
            "Product of all elements except itself: [24, 12, 8, 6]\n"
          ]
        }
      ]
    },
    {
      "cell_type": "code",
      "source": [
        "#4. Two Sum Problem\n",
        "#Problem: Given an array of integers and a target value, return the indicesof the two numbers such that they add up to the target.\n",
        "#Input: arr = [2, 7, 11, 15], target = 9\n",
        "#Output: [0, 1] (because arr[0] + arr[1] == 9)\n",
        "\n",
        "def two_sum(arr, target):\n",
        "    lookup = {}\n",
        "    for i, num in enumerate(arr):\n",
        "        if target - num in lookup:\n",
        "            return [lookup[target - num], i]\n",
        "        lookup[num] = i\n",
        "\n",
        "arr = [2, 7, 11, 15]\n",
        "target = 9\n",
        "print(\"Indices of two numbers:\", two_sum(arr, target))\n"
      ],
      "metadata": {
        "id": "TGrajE4QbUog"
      },
      "execution_count": null,
      "outputs": []
    },
    {
      "cell_type": "code",
      "source": [
        "#Minimum Number of Jumps to Reach End\n",
        "#Problem: Given an array of integers where each element represents the\n",
        "#maximum jump length from that position, determine the minimum number of jumps required to reach the end of the array.\n",
        "#Input: arr = [6, 2, 4, 0, 5, 1, 1, 4, 2, 9]\n",
        "#Output: 2 (The minimum jumps to reach the end are 6 -> 5 -> 9)\n",
        "\n",
        "def min_jumps(arr):\n",
        "    if len(arr) <= 1:\n",
        "        return 0\n",
        "    if arr[0] == 0:\n",
        "        return -1\n",
        "\n",
        "    max_reach = arr[0]\n",
        "    step = arr[0]\n",
        "    jumps = 1\n",
        "\n",
        "    for i in range(1, len(arr)):\n",
        "        if i == len(arr) - 1:\n",
        "            return jumps\n",
        "        max_reach = max(max_reach, i + arr[i])\n",
        "        step -= 1\n",
        "        if step == 0:\n",
        "            jumps += 1\n",
        "            if i >= max_reach:\n",
        "                return -1\n",
        "            step = max_reach - i\n",
        "\n",
        "    return -1\n",
        "\n",
        "arr = [6, 2, 4, 0, 5, 1, 1, 4, 2, 9]\n",
        "print(\"Minimum jumps to reach the end:\", min_jumps(arr))\n"
      ],
      "metadata": {
        "colab": {
          "base_uri": "https://localhost:8080/"
        },
        "id": "-IJXi5nybob_",
        "outputId": "94a1f682-d423-4f73-d24c-afe4a3647b3a"
      },
      "execution_count": 16,
      "outputs": [
        {
          "output_type": "stream",
          "name": "stdout",
          "text": [
            "Minimum jumps to reach the end: 2\n"
          ]
        }
      ]
    },
    {
      "cell_type": "code",
      "source": [
        "#Sort Colors (Dutch National Flag Problem)\n",
        "#Problem: Given an array containing n objects, where each object is one of three colors represented by integers 0, 1, and 2, sort the array in-place without using extra space.\n",
        "#• Input: arr = [2, 0, 2, 1, 1, 0]\n",
        "#• Output: [0, 0, 1, 1, 2, 2]\n",
        "\n",
        "def sort_colors(arr):\n",
        "    low, mid, high = 0, 0, len(arr) - 1\n",
        "    while mid <= high:\n",
        "        if arr[mid] == 0:\n",
        "            arr[low], arr[mid] = arr[mid], arr[low]\n",
        "            low += 1\n",
        "            mid += 1\n",
        "        elif arr[mid] == 1:\n",
        "            mid += 1\n",
        "        else:\n",
        "            arr[mid], arr[high] = arr[high], arr[mid]\n",
        "            high -= 1\n",
        "    return arr\n",
        "\n",
        "arr = [2, 0, 2, 1, 1, 0]\n",
        "print(\"Sorted colors:\", sort_colors(arr))\n"
      ],
      "metadata": {
        "colab": {
          "base_uri": "https://localhost:8080/"
        },
        "id": "pkRTquPXb1so",
        "outputId": "00f04eef-b47d-47d3-e9b4-c2f4d4f325ac"
      },
      "execution_count": 17,
      "outputs": [
        {
          "output_type": "stream",
          "name": "stdout",
          "text": [
            "Sorted colors: [0, 0, 1, 1, 2, 2]\n"
          ]
        }
      ]
    },
    {
      "cell_type": "code",
      "source": [
        "#Trapping Rain Water\n",
        " #Problem: Given an array representing the heights of bars, compute how much water it can trap after raining.\n",
        " #Input: arr = [0, 1, 0, 2, 1, 0, 1, 3, 2, 1, 2, 1]\n",
        " #Output: 6 (total water trapped)\n",
        "\n",
        "def trap_rain_water(arr):\n",
        "    if not arr:\n",
        "        return 0\n",
        "\n",
        "    left, right = 0, len(arr) - 1\n",
        "    left_max, right_max = arr[left], arr[right]\n",
        "    water_trapped = 0\n",
        "\n",
        "    while left < right:\n",
        "        if left_max < right_max:\n",
        "            left += 1\n",
        "            left_max = max(left_max, arr[left])\n",
        "            water_trapped += left_max - arr[left]\n",
        "        else:\n",
        "            right -= 1\n",
        "            right_max = max(right_max, arr[right])\n",
        "            water_trapped += right_max - arr[right]\n",
        "\n",
        "    return water_trapped\n",
        "\n",
        "arr = [0, 1, 0, 2, 1, 0, 1, 3, 2, 1, 2, 1]\n",
        "print(\"Total water trapped:\", trap_rain_water(arr))\n"
      ],
      "metadata": {
        "colab": {
          "base_uri": "https://localhost:8080/"
        },
        "id": "RacdzwSxb-uM",
        "outputId": "3c82f8b9-d874-4129-b87e-deecd394fc85"
      },
      "execution_count": 18,
      "outputs": [
        {
          "output_type": "stream",
          "name": "stdout",
          "text": [
            "Total water trapped: 6\n"
          ]
        }
      ]
    },
    {
      "cell_type": "code",
      "source": [
        "#In an organisation monthly sales figures of employees are available. Write a program to find the total sales of each employee and total sales of each month. Also find the total sales of the organization.\n",
        "def calculate_sales(sales):\n",
        "    total_sales_per_employee = [sum(month) for month in sales]\n",
        "    total_sales_per_month = [sum(month[i] for month in sales) for i in range(len(sales[0]))]\n",
        "    total_sales = sum(total_sales_per_employee)\n",
        "\n",
        "    return total_sales_per_employee, total_sales_per_month, total_sales\n",
        "\n",
        "sales = [\n",
        "    [200, 300, 250],  # Sales for employee 1 in Jan, Feb, Mar\n",
        "    [150, 400, 300],  # Sales for employee 2 in Jan, Feb, Mar\n",
        "    [300, 250, 200]   # Sales for employee 3 in Jan, Feb, Mar\n",
        "]\n",
        "\n",
        "total_sales_per_employee, total_sales_per_month, total_sales = calculate_sales(sales)\n",
        "print(\"Total sales per employee:\", total_sales_per_employee)\n",
        "print(\"Total sales per month:\", total_sales_per_month)\n",
        "print(\"Total sales of the organization:\", total_sales)\n"
      ],
      "metadata": {
        "colab": {
          "base_uri": "https://localhost:8080/"
        },
        "id": "ITiO_ldkciur",
        "outputId": "bfb0d9e0-534a-4f93-a049-568edec99a7a"
      },
      "execution_count": 19,
      "outputs": [
        {
          "output_type": "stream",
          "name": "stdout",
          "text": [
            "Total sales per employee: [750, 850, 750]\n",
            "Total sales per month: [650, 950, 750]\n",
            "Total sales of the organization: 2350\n"
          ]
        }
      ]
    },
    {
      "cell_type": "code",
      "source": [
        "#Write a program to find the determinant of a matrix.\n",
        "import numpy as np\n",
        "\n",
        "def find_determinant(matrix):\n",
        "    return np.linalg.det(matrix)\n",
        "\n",
        "matrix = [[1, 2], [3, 4]]\n",
        "print(\"Determinant of the matrix:\", find_determinant(matrix))\n"
      ],
      "metadata": {
        "colab": {
          "base_uri": "https://localhost:8080/"
        },
        "id": "SS88mpfBc295",
        "outputId": "1115d3aa-1119-4d7e-8ec7-8c0c7be33ce5"
      },
      "execution_count": 20,
      "outputs": [
        {
          "output_type": "stream",
          "name": "stdout",
          "text": [
            "Determinant of the matrix: -2.0000000000000004\n"
          ]
        }
      ]
    },
    {
      "cell_type": "code",
      "source": [
        "#Sum of Diagonal Elements of a Square Matrix:\n",
        "def sum_diagonal(matrix):\n",
        "    return sum(matrix[i][i] for i in range(len(matrix)))\n",
        "\n",
        "matrix = [\n",
        "    [1, 2, 3],\n",
        "    [4, 5, 6],\n",
        "    [7, 8, 9]\n",
        "]\n",
        "print(\"Sum of diagonal elements:\", sum_diagonal(matrix))\n"
      ],
      "metadata": {
        "colab": {
          "base_uri": "https://localhost:8080/"
        },
        "id": "qnufEJbBc-st",
        "outputId": "84e6fbd7-5e53-494a-b6c6-79f2c93a8802"
      },
      "execution_count": 21,
      "outputs": [
        {
          "output_type": "stream",
          "name": "stdout",
          "text": [
            "Sum of diagonal elements: 15\n"
          ]
        }
      ]
    },
    {
      "cell_type": "code",
      "source": [
        "#Maximum Temperature Analysis:\n"
      ],
      "metadata": {
        "id": "0ezM_58wdE-n"
      },
      "execution_count": null,
      "outputs": []
    }
  ]
}
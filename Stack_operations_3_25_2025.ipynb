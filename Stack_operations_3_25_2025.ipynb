{
  "nbformat": 4,
  "nbformat_minor": 0,
  "metadata": {
    "colab": {
      "provenance": []
    },
    "kernelspec": {
      "name": "python3",
      "display_name": "Python 3"
    },
    "language_info": {
      "name": "python"
    }
  },
  "cells": [
    {
      "cell_type": "code",
      "execution_count": null,
      "metadata": {
        "id": "UwFAhnIhv-V_"
      },
      "outputs": [],
      "source": [
        "#scan_character   Stack       Target_String\n",
        "A                                 A\n",
        "+                   +             A\n",
        "(                   +(            A\n",
        "B                   +(            AB\n",
        "-                   +(-           AB\n",
        "C                   +(-           ABC\n",
        "*                   +(-*          ABC\n",
        "D                   +(-*          ABCD\n",
        ")                   +             ABCD-*\n",
        "/                   +/            ABCD*-\n",
        "E                   +/            ABCD*-E\n",
        "End of string                     ABCD*-E/+\n",
        "\n",
        "Result potfix -->ABCD*-E/+"
      ]
    },
    {
      "cell_type": "code",
      "source": [
        "class StackNode:\n",
        "  def __init__(self,NewData,link):\n",
        "    self.data=NewData\n",
        "    self.next=link\n",
        "class Stack:\n",
        "  def __init__(self):\n",
        "    self.top=None\n",
        "  def isempty(self):\n",
        "    return self.top is None\n",
        "  def peek(self):\n",
        "    return self.top.data\n",
        "  def pop(self):\n",
        "    node=self.top\n",
        "    self.top=self.top.next\n",
        "    return node.data\n",
        "  def push(self,NewData):\n",
        "    self.top=StackNode(NewData,self.top)\n",
        "\n",
        "def infix_to_postfix(source):\n",
        "  target=\"\"\n",
        "  st=Stack()\n",
        "  for ch in source:\n",
        "    if ch=='(':\n",
        "      st.push(ch)\n",
        "    elif ch==')':\n",
        "      while(not st.isempty() and st.peek()!='('):\n",
        "         target+=st.pop()\n",
        "      st.pop()\n",
        "    elif ch.isdigit() or ch.isalpha():\n",
        "      target+=ch\n",
        "    elif ch=='+' or ch=='-' or ch=='*' or ch=='/' or ch=='%':\n",
        "      while (not st.isempty() and st.peek()!='(' and getPriority(st.peek())>=getPriority(ch)):\n",
        "        target+=st.pop()\n",
        "      st.push(ch)\n",
        "      while(not st.isempty()):\n",
        "        target+=st.pop()\n",
        "        return target\n",
        "def getPriority(opr):\n",
        "  if(opr=='*' or opr=='/' or opr=='%'):\n",
        "    return 1\n",
        "  else:\n",
        "    return 0\n",
        "\n",
        "infix_exp=input(\"Enter an infix expression:\")\n",
        "postfix=infix_to_postfix(infix_exp)\n",
        "print(\"The equivalent Postfix expression is:\")\n",
        "print(postfix)\n"
      ],
      "metadata": {
        "id": "XVkcnX250Boe"
      },
      "execution_count": null,
      "outputs": []
    },
    {
      "cell_type": "code",
      "source": [],
      "metadata": {
        "id": "IoMdiDW0y9E-"
      },
      "execution_count": null,
      "outputs": []
    }
  ]
}
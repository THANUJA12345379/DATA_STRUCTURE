{
  "nbformat": 4,
  "nbformat_minor": 0,
  "metadata": {
    "colab": {
      "provenance": []
    },
    "kernelspec": {
      "name": "python3",
      "display_name": "Python 3"
    },
    "language_info": {
      "name": "python"
    }
  },
  "cells": [
    {
      "cell_type": "code",
      "execution_count": 1,
      "metadata": {
        "colab": {
          "base_uri": "https://localhost:8080/"
        },
        "id": "I2Z8nGmwG3V5",
        "outputId": "c0421924-0e4c-4a83-c82a-056bb288eeb5"
      },
      "outputs": [
        {
          "output_type": "stream",
          "name": "stdout",
          "text": [
            "21\n"
          ]
        }
      ],
      "source": [
        "#1 . Parentheses Positioning Error:\n",
        "# Write a function to find the position of the first mismatched parenthesis in a given string. Return -1 if all parentheses are balanced\n",
        "\n",
        "def find_mismatched_parenthesis(s):\n",
        "    stack = []\n",
        "    for i, char in enumerate(s):\n",
        "        if char == '(':\n",
        "            stack.append(i)\n",
        "        elif char == ')':\n",
        "            if stack:\n",
        "                stack.pop()\n",
        "            else:\n",
        "                return i\n",
        "\n",
        "    if stack:\n",
        "        return stack[0]\n",
        "\n",
        "    return -1\n",
        "\n",
        "# Example usage\n",
        "string = \"a + (b - c) * (d + e))\"\n",
        "result = find_mismatched_parenthesis(string)\n",
        "print(result)\n"
      ]
    },
    {
      "cell_type": "code",
      "source": [
        "#Parentheses in a Long String:\n",
        "#Given a long string with multiple characters, find all the positions where parentheses are balanced and return them\n",
        "\n",
        "def find_balanced_parentheses_positions(s):\n",
        "    balanced_positions = []\n",
        "    stack = []\n",
        "\n",
        "    for i, char in enumerate(s):\n",
        "        if char == '(':\n",
        "            stack.append(i)\n",
        "        elif char == ')':\n",
        "            if stack:\n",
        "                start_position = stack.pop()\n",
        "                balanced_positions.append((start_position, i))\n",
        "    return balanced_positions\n",
        "\n",
        "# Example usage\n",
        "long_string = \"a + (b - c) * (d + e) + (f + g * h)\"\n",
        "positions = find_balanced_parentheses_positions(long_string)\n",
        "print(\"Balanced parentheses positions:\", positions)\n"
      ],
      "metadata": {
        "colab": {
          "base_uri": "https://localhost:8080/"
        },
        "id": "N6XJMq6y0jLq",
        "outputId": "16517b6e-279d-41ba-dc02-304efb43fff8"
      },
      "execution_count": 2,
      "outputs": [
        {
          "output_type": "stream",
          "name": "stdout",
          "text": [
            "Balanced parentheses positions: [(4, 10), (14, 20), (24, 34)]\n"
          ]
        }
      ]
    },
    {
      "cell_type": "code",
      "source": [
        "#Minimum Number of Parentheses to Add:\n",
        "#Given a string with parentheses, find the minimum number of parentheses needed to be added to make the string valid\n",
        "\n",
        "def min_parentheses_to_add(s):\n",
        "    open_needed = 0\n",
        "    close_needed = 0\n",
        "\n",
        "    for char in s:\n",
        "        if char == '(':\n",
        "            close_needed += 1\n",
        "        elif char == ')':\n",
        "            if close_needed > 0:\n",
        "                close_needed -= 1\n",
        "            else:\n",
        "                open_needed += 1\n",
        "\n",
        "    return open_needed + close_needed\n",
        "\n",
        "# Example usage\n",
        "string = \"())(()\"\n",
        "result = min_parentheses_to_add(string)\n",
        "print(f\"Minimum parentheses to add: {result}\")\n"
      ],
      "metadata": {
        "colab": {
          "base_uri": "https://localhost:8080/"
        },
        "id": "Sil4uA-u0yHt",
        "outputId": "f9b442ee-3710-4c62-acb8-e1263fd4f6b5"
      },
      "execution_count": 3,
      "outputs": [
        {
          "output_type": "stream",
          "name": "stdout",
          "text": [
            "Minimum parentheses to add: 2\n"
          ]
        }
      ]
    },
    {
      "cell_type": "code",
      "source": [
        "#Longest Valid Parentheses Substring:\n",
        "#Given a string containing just the characters ( and ), find the length of the longest valid (well-formed) parentheses substring.\n",
        "def longest_valid_parentheses(s):\n",
        "    max_length = 0\n",
        "    stack = [-1]\n",
        "\n",
        "    for i, char in enumerate(s):\n",
        "        if char == '(':\n",
        "            stack.append(i)\n",
        "        elif char == ')':\n",
        "            if stack:\n",
        "                if stack:\n",
        "                    max_length = max(max_length, i - stack[-1])\n",
        "                else:\n",
        "                    stack.append(i)\n",
        "            else:\n",
        "                stack.append(i)\n",
        "    return max_length\n",
        "\n",
        "# Example usage\n",
        "string = \"(()))())(\"\n",
        "result = longest_valid_parentheses(string)\n",
        "print(f\"Length of longest valid parentheses substring: {result}\")\n"
      ],
      "metadata": {
        "colab": {
          "base_uri": "https://localhost:8080/"
        },
        "id": "s8DOtTGm1D9u",
        "outputId": "f40884a7-4fca-49e4-f6e3-df2ef09f13ef"
      },
      "execution_count": 4,
      "outputs": [
        {
          "output_type": "stream",
          "name": "stdout",
          "text": [
            "Length of longest valid parentheses substring: 3\n"
          ]
        }
      ]
    },
    {
      "cell_type": "code",
      "source": [],
      "metadata": {
        "id": "607OiKoK1Ygn"
      },
      "execution_count": null,
      "outputs": []
    }
  ]
}
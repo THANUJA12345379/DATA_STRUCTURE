{
  "nbformat": 4,
  "nbformat_minor": 0,
  "metadata": {
    "colab": {
      "provenance": []
    },
    "kernelspec": {
      "name": "python3",
      "display_name": "Python 3"
    },
    "language_info": {
      "name": "python"
    }
  },
  "cells": [
    {
      "cell_type": "code",
      "execution_count": 1,
      "metadata": {
        "id": "XA_Bk3EJZWNu",
        "colab": {
          "base_uri": "https://localhost:8080/"
        },
        "outputId": "8feb6afe-3963-470a-bfef-c7ad9dad5102"
      },
      "outputs": [
        {
          "output_type": "stream",
          "name": "stdout",
          "text": [
            "Output: [1, 3, 12, 0, 0]\n"
          ]
        }
      ],
      "source": [
        "\n",
        "# Move Zeroes to the End Problem: Write a function that moves all zeroes in an array to the end while maintaining the relative order of the non-zero elements.\n",
        "#Input: arr = [0, 1, 0, 3, 12]\n",
        "#Output: [1, 3, 12, 0, 0]\n",
        "def move_zeroes(arr):\n",
        "    insert_pos = 0  # Position to place the next non-zero element\n",
        "\n",
        "    # First pass: move all non-zero elements to the front\n",
        "    for num in arr:\n",
        "        if num != 0:\n",
        "            arr[insert_pos] = num\n",
        "            insert_pos += 1\n",
        "\n",
        "    # Second pass: fill the remaining positions with zeroes\n",
        "    while insert_pos < len(arr):\n",
        "        arr[insert_pos] = 0\n",
        "        insert_pos += 1\n",
        "\n",
        "    return arr\n",
        "\n",
        "# Example usage\n",
        "arr = [0, 1, 0, 3, 12]\n",
        "result = move_zeroes(arr)\n",
        "print(\"Output:\", result)\n"
      ]
    },
    {
      "cell_type": "code",
      "source": [
        "#Array rotation Problem : write a python function to rotate an array to the right kth position.\n",
        "#Input: arr = [1,2,3,4,5]\n",
        "#Output: [4,5,1,2,3]\n",
        "\n",
        "def rotate_right(arr, k):\n",
        "    n = len(arr)\n",
        "    k = k % n  # In case k is larger than the array size\n",
        "    return arr[-k:] + arr[:-k]\n",
        "\n",
        "# Example usage:\n",
        "arr = [1, 2, 3, 4, 5]\n",
        "k = 2\n",
        "rotated = rotate_right(arr, k)\n",
        "print(\"Rotated Array:\", rotated)\n"
      ],
      "metadata": {
        "colab": {
          "base_uri": "https://localhost:8080/"
        },
        "id": "JClzGalxaij8",
        "outputId": "39c01622-3779-4e69-bd97-6383347a2c9c"
      },
      "execution_count": 2,
      "outputs": [
        {
          "output_type": "stream",
          "name": "stdout",
          "text": [
            "Rotated Array: [4, 5, 1, 2, 3]\n"
          ]
        }
      ]
    },
    {
      "cell_type": "code",
      "source": [
        "#Product of All Elements Except Itself Problem: Given an array of integers, return a new array such that each element at index i is the product of all the numbers in the array except the one at i.\n",
        "#Input: arr = [1, 2, 3, 4]\n",
        "#Output: [24, 12, 8, 6]\n",
        "\n",
        "def product_except_self(arr):\n",
        "    n = len(arr)\n",
        "    result = [1] * n\n",
        "\n",
        "    # Step 1: Prefix product (left to right)\n",
        "    left_product = 1\n",
        "    for i in range(n):\n",
        "        result[i] = left_product\n",
        "        left_product *= arr[i]\n",
        "\n",
        "    # Step 2: Suffix product (right to left)\n",
        "    right_product = 1\n",
        "    for i in reversed(range(n)):\n",
        "        result[i] *= right_product\n",
        "        right_product *= arr[i]\n",
        "\n",
        "    return result\n",
        "\n",
        "# Example usage:\n",
        "arr = [1, 2, 3, 4]\n",
        "output = product_except_self(arr)\n",
        "print(\"Output:\", output)\n"
      ],
      "metadata": {
        "colab": {
          "base_uri": "https://localhost:8080/"
        },
        "id": "8u0qMDSka1Rn",
        "outputId": "f6cd0c34-fd1e-4b41-ebbb-f90cdfa963b5"
      },
      "execution_count": 3,
      "outputs": [
        {
          "output_type": "stream",
          "name": "stdout",
          "text": [
            "Output: [24, 12, 8, 6]\n"
          ]
        }
      ]
    },
    {
      "cell_type": "code",
      "source": [
        "#Two Sum Problem\n",
        "#Problem: Given an array of integers and a target value, return the indices\n",
        "#of the two numbers such that they add up to the target.\n",
        "#Input: arr = [2, 7, 11, 15], target = 9\n",
        "#Output: [0, 1] (because arr[0] + arr[1] == 9)\n",
        "\n",
        "def two_sum(arr, target):\n",
        "    num_map = {}  # Stores number and its index\n",
        "\n",
        "    for i, num in enumerate(arr):\n",
        "        complement = target - num\n",
        "        if complement in num_map:\n",
        "            return [num_map[complement], i]\n",
        "        num_map[num] = i\n",
        "\n",
        "    return []  # Return empty if no solution is found\n",
        "\n",
        "# Example usage:\n",
        "arr = [2, 7, 11, 15]\n",
        "target = 9\n",
        "result = two_sum(arr, target)\n",
        "print(\"Output:\", result)\n"
      ],
      "metadata": {
        "colab": {
          "base_uri": "https://localhost:8080/"
        },
        "id": "ZuObGxiabD5v",
        "outputId": "cf024627-a417-4225-f436-7149631a89a8"
      },
      "execution_count": 4,
      "outputs": [
        {
          "output_type": "stream",
          "name": "stdout",
          "text": [
            "Output: [0, 1]\n"
          ]
        }
      ]
    },
    {
      "cell_type": "code",
      "source": [
        "#Minimum Number of Jumps to Reach End\n",
        "#Problem: Given an array of integers where each element represents the\n",
        "#maximum jump length from that position, determine the minimum number of jumps required to reach the end of the array.\n",
        "#Input: arr = [6, 2, 4, 0, 5, 1, 1, 4, 2, 9]\n",
        "#Output: 2 (The minimum jumps to reach the end are 6 -> 5 -> 9)\n",
        "def min_jumps(arr):\n",
        "    n = len(arr)\n",
        "    if n <= 1:\n",
        "        return 0\n",
        "\n",
        "    # If first element is 0, we can't move anywhere\n",
        "    if arr[0] == 0:\n",
        "        return -1\n",
        "\n",
        "    # Initialize variables\n",
        "    jumps = 1         # We start with one jump (first leap from index 0)\n",
        "    max_reach = arr[0]\n",
        "    steps = arr[0]\n",
        "\n",
        "    for i in range(1, n):\n",
        "        # If we've reached the end\n",
        "        if i == n - 1:\n",
        "            return jumps\n",
        "\n",
        "        max_reach = max(max_reach, i + arr[i])\n",
        "        steps -= 1\n",
        "\n",
        "        if steps == 0:\n",
        "            jumps += 1\n",
        "            # Check if the current index is beyond max reach\n",
        "            if i >= max_reach:\n",
        "                return -1\n",
        "            steps = max_reach - i\n",
        "\n",
        "    return -1\n",
        "\n",
        "# Example usage:\n",
        "arr = [6, 2, 4, 0, 5, 1, 1, 4, 2, 9]\n",
        "print(\"Minimum jumps to reach the end:\", min_jumps(arr))\n"
      ],
      "metadata": {
        "colab": {
          "base_uri": "https://localhost:8080/"
        },
        "id": "PcGl_v3ubY9_",
        "outputId": "c5eef820-5b6d-4e1f-e091-d311614276c2"
      },
      "execution_count": 5,
      "outputs": [
        {
          "output_type": "stream",
          "name": "stdout",
          "text": [
            "Minimum jumps to reach the end: 2\n"
          ]
        }
      ]
    },
    {
      "cell_type": "code",
      "source": [
        "#Sort Colors (Dutch National Flag Problem) Problem: Given an array containing n objects, where each object is one of three colors represented by integers 0, 1, and 2, sort the array in-place without using extra space.\n",
        "#• Input: arr = [2, 0, 2, 1, 1, 0]\n",
        "#• Output: [0, 0, 1, 1, 2, 2]\n",
        "def sort_colors(arr):\n",
        "    low, mid, high = 0, 0, len(arr) - 1\n",
        "\n",
        "    while mid <= high:\n",
        "        if arr[mid] == 0:\n",
        "            arr[low], arr[mid] = arr[mid], arr[low]\n",
        "            low += 1\n",
        "            mid += 1\n",
        "        elif arr[mid] == 1:\n",
        "            mid += 1\n",
        "        else:\n",
        "            arr[mid], arr[high] = arr[high], arr[mid]\n",
        "            high -= 1\n",
        "    return arr\n",
        "\n",
        "# Example usage:\n",
        "arr = [2, 0, 2, 1, 1, 0]\n",
        "print(\"Sorted Colors:\", sort_colors(arr))\n"
      ],
      "metadata": {
        "colab": {
          "base_uri": "https://localhost:8080/"
        },
        "id": "7Agcswwfbv2N",
        "outputId": "a7d7911f-4e0d-4c58-ef9b-8af1d2b4336d"
      },
      "execution_count": 6,
      "outputs": [
        {
          "output_type": "stream",
          "name": "stdout",
          "text": [
            "Sorted Colors: [0, 0, 1, 1, 2, 2]\n"
          ]
        }
      ]
    },
    {
      "cell_type": "code",
      "source": [
        " #Trapping Rain Water Problem: Given an array representing the heights of bars, compute how much water it can trap after raining.\n",
        "#• Input: arr = [0, 1, 0, 2, 1, 0, 1, 3, 2, 1, 2, 1]\n",
        "#• Output: 6 (total water trapped)\n",
        "\n",
        "def trap_rain_water(height):\n",
        "    if not height or len(height) < 3:\n",
        "        return 0\n",
        "\n",
        "    n = len(height)\n",
        "    left, right = 0, n - 1\n",
        "    left_max, right_max = height[left], height[right]\n",
        "    trapped = 0\n",
        "\n",
        "    while left < right:\n",
        "        if height[left] < height[right]:\n",
        "            left += 1\n",
        "            left_max = max(left_max, height[left])\n",
        "            trapped += max(0, left_max - height[left])\n",
        "        else:\n",
        "            right -= 1\n",
        "            right_max = max(right_max, height[right])\n",
        "            trapped += max(0, right_max - height[right])\n",
        "\n",
        "    return trapped\n",
        "\n",
        "# Example usage:\n",
        "heights = [0, 1, 0, 2, 1, 0, 1, 3, 2, 1, 2, 1]\n",
        "print(\"Total Trapped Water:\", trap_rain_water(heights))\n"
      ],
      "metadata": {
        "colab": {
          "base_uri": "https://localhost:8080/"
        },
        "id": "6U_yNwpOcCy6",
        "outputId": "72bf9637-a48b-4d9b-9fe3-4a331831babd"
      },
      "execution_count": 7,
      "outputs": [
        {
          "output_type": "stream",
          "name": "stdout",
          "text": [
            "Total Trapped Water: 6\n"
          ]
        }
      ]
    },
    {
      "cell_type": "code",
      "source": [],
      "metadata": {
        "id": "0uIJ0lN9cCvZ"
      },
      "execution_count": null,
      "outputs": []
    }
  ]
}
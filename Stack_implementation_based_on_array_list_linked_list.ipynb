{
  "nbformat": 4,
  "nbformat_minor": 0,
  "metadata": {
    "colab": {
      "provenance": []
    },
    "kernelspec": {
      "name": "python3",
      "display_name": "Python 3"
    },
    "language_info": {
      "name": "python"
    }
  },
  "cells": [
    {
      "cell_type": "code",
      "execution_count": null,
      "metadata": {
        "colab": {
          "base_uri": "https://localhost:8080/"
        },
        "id": "8HvYaGu1Cel4",
        "outputId": "f681cfe2-ad06-456c-8898-06600160d716"
      },
      "outputs": [
        {
          "output_type": "stream",
          "name": "stdout",
          "text": [
            "Postfix Expression: abc*+d-\n",
            "Infix Expression: ((a + (b * c)) - d)\n"
          ]
        }
      ],
      "source": [
        "\n",
        "#write a program to convert a postfix expression to its equivalent infix expression\n",
        "\n",
        "def postfix_to_infix(postfix_expr):\n",
        "\n",
        "    stack = []\n",
        "\n",
        "    for char in postfix_expr:\n",
        "        if char.isalnum():\n",
        "            stack.append(char)\n",
        "        else:\n",
        "            operand2 = stack.pop()\n",
        "            operand1 = stack.pop()\n",
        "\n",
        "            infix_expr = f\"({operand1} {char} {operand2})\"\n",
        "            stack.append(infix_expr)\n",
        "\n",
        "    return stack.pop()\n",
        "postfix_expression = \"abc*+d-\"\n",
        "infix_expression = postfix_to_infix(postfix_expression)\n",
        "print(\"Postfix Expression:\", postfix_expression)\n",
        "print(\"Infix Expression:\", infix_expression)\n"
      ]
    },
    {
      "cell_type": "code",
      "source": [
        "#Write a program to convert a postfix expression to its equivalent prefix expression.\n",
        "\n",
        "def postfix_to_prefix(postfix_expr):\n",
        "\n",
        "    stack = []\n",
        "\n",
        "    for char in postfix_expr:\n",
        "        if char.isalnum():\n",
        "            stack.append(char)\n",
        "        else:\n",
        "            operand2 = stack.pop()\n",
        "            operand1 = stack.pop()\n",
        "            prefix_expr = char + operand1 + operand2\n",
        "            stack.append(prefix_expr)\n",
        "    return stack.pop()\n",
        "\n",
        "postfix_expression = \"ABC*+D-\"\n",
        "prefix_expression = postfix_to_prefix(postfix_expression)\n",
        "print(\"Postfix Expression:\", postfix_expression)\n",
        "print(\"Prefix Expression:\", prefix_expression)\n"
      ],
      "metadata": {
        "colab": {
          "base_uri": "https://localhost:8080/"
        },
        "id": "v4DBkn-oCxt8",
        "outputId": "169edcfe-2f47-4c63-b641-afe6d33483ec"
      },
      "execution_count": null,
      "outputs": [
        {
          "output_type": "stream",
          "name": "stdout",
          "text": [
            "Postfix Expression: ABC*+D-\n",
            "Prefix Expression: -+A*BCD\n"
          ]
        }
      ]
    },
    {
      "cell_type": "code",
      "source": [
        "#Write a program to convert a prefix expression to its equivalent postfix expression\n",
        "def prefix_to_postfix(prefix_expr):\n",
        "    stack = []\n",
        "    prefix_expr = prefix_expr[::-1]\n",
        "\n",
        "    for char in prefix_expr:\n",
        "        if char.isalnum():\n",
        "            stack.append(char)\n",
        "        else:\n",
        "\n",
        "            operand1 = stack.pop()\n",
        "            operand2 = stack.pop()\n",
        "            postfix_expr = operand1 + operand2 + char\n",
        "            stack.append(postfix_expr)\n",
        "    return stack.pop()\n",
        "\n",
        "\n",
        "# Example usage\n",
        "prefix_expression = \"-+A*BCD\"\n",
        "postfix_expression = prefix_to_postfix(prefix_expression)\n",
        "print(\"Prefix Expression:\", prefix_expression)\n",
        "print(\"Postfix Expression:\", postfix_expression)\n"
      ],
      "metadata": {
        "id": "MntBH9ivDel0",
        "colab": {
          "base_uri": "https://localhost:8080/"
        },
        "outputId": "e3b05300-da99-4ab8-ebe6-abd74a596d77"
      },
      "execution_count": 2,
      "outputs": [
        {
          "output_type": "stream",
          "name": "stdout",
          "text": [
            "Prefix Expression: -+A*BCD\n",
            "Postfix Expression: ABC*+D-\n"
          ]
        }
      ]
    },
    {
      "cell_type": "code",
      "source": [
        "#Write a program to implement multiple stacks using a single list.\n",
        "class MultipleStacks:\n",
        "    def __init__(self, num_stacks, stack_size):\n",
        "        self.num_stacks = num_stacks\n",
        "        self.stack_size = stack_size\n",
        "        self.array = [None] * (num_stacks * stack_size)\n",
        "        self.tops = [-1] * num_stacks\n",
        "\n",
        "    def push(self, stack_num, value):\n",
        "        if stack_num < 0 or stack_num >= self.num_stacks:\n",
        "            print(\"Invalid stack number.\")\n",
        "            return\n",
        "\n",
        "        if self.tops[stack_num] + 1 >= self.stack_size:\n",
        "            print(f\"Stack {stack_num} is full.\")\n",
        "            return\n",
        "\n",
        "        self.tops[stack_num] += 1\n",
        "        index = stack_num * self.stack_size + self.tops[stack_num]\n",
        "        self.array[index] = value\n",
        "\n",
        "    def pop(self, stack_num):\n",
        "        if stack_num < 0 or stack_num >= self.num_stacks:\n",
        "            print(\"Invalid stack number.\")\n",
        "            return None\n",
        "\n",
        "        if self.tops[stack_num] == -1:\n",
        "            print(f\"Stack {stack_num} is empty.\")\n",
        "            return None\n",
        "\n",
        "        index = stack_num * self.stack_size + self.tops[stack_num]\n",
        "        value = self.array[index]\n",
        "        self.array[index] = None\n",
        "        self.tops[stack_num] -= 1\n",
        "        return value\n",
        "\n",
        "    def peek(self, stack_num):\n",
        "        if stack_num < 0 or stack_num >= self.num_stacks:\n",
        "            print(\"Invalid stack number.\")\n",
        "            return None\n",
        "\n",
        "        if self.tops[stack_num] == -1:\n",
        "            print(f\"Stack {stack_num} is empty.\")\n",
        "            return None\n",
        "\n",
        "        index = stack_num * self.stack_size + self.tops[stack_num]\n",
        "        return self.array[index]\n",
        "\n",
        "# Example usage\n",
        "num_stacks = 3\n",
        "stack_size = 5\n",
        "multi_stack = MultipleStacks(num_stacks, stack_size)\n",
        "\n",
        "multi_stack.push(0, 10)\n",
        "multi_stack.push(0, 20)\n",
        "multi_stack.push(1, 30)\n",
        "multi_stack.push(2, 40)\n",
        "\n",
        "print(multi_stack.pop(0))\n",
        "print(multi_stack.peek(1))\n",
        "print(multi_stack.peek(2))\n"
      ],
      "metadata": {
        "colab": {
          "base_uri": "https://localhost:8080/"
        },
        "id": "fYI4J3vOFwUk",
        "outputId": "92c14aa6-8cb9-4c22-9630-b288fc16e119"
      },
      "execution_count": 1,
      "outputs": [
        {
          "output_type": "stream",
          "name": "stdout",
          "text": [
            "20\n",
            "30\n",
            "40\n"
          ]
        }
      ]
    },
    {
      "cell_type": "code",
      "source": [],
      "metadata": {
        "id": "1YZMIy31GHFj"
      },
      "execution_count": null,
      "outputs": []
    }
  ]
}
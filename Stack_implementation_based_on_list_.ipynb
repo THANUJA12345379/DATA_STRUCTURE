{
  "nbformat": 4,
  "nbformat_minor": 0,
  "metadata": {
    "colab": {
      "provenance": []
    },
    "kernelspec": {
      "name": "python3",
      "display_name": "Python 3"
    },
    "language_info": {
      "name": "python"
    }
  },
  "cells": [
    {
      "cell_type": "code",
      "execution_count": 1,
      "metadata": {
        "colab": {
          "base_uri": "https://localhost:8080/"
        },
        "id": "T-WTQZxx2ATZ",
        "outputId": "0ec024d5-198e-47b4-dfed-a24bfc65a81b"
      },
      "outputs": [
        {
          "output_type": "stream",
          "name": "stdout",
          "text": [
            "Original string: Hello, World!\n",
            "Reversed string: !dlroW ,olleH\n"
          ]
        }
      ],
      "source": [
        "#Reverse a String using a Stack:\n",
        "# Implement a stack using a list and write a function to reverse a given string. Push each character of the string onto the stack, then pop each character off the stack to reverse the string.\n",
        "\n",
        "class Stack:\n",
        "    def __init__(self):\n",
        "        self.items = []\n",
        "\n",
        "    def push(self, item):\n",
        "        self.items.append(item)\n",
        "\n",
        "    def pop(self):\n",
        "        if not self.is_empty():\n",
        "            return self.items.pop()\n",
        "        else:\n",
        "            return None\n",
        "\n",
        "    def is_empty(self):\n",
        "        return len(self.items) == 0\n",
        "\n",
        "def reverse_string(s):\n",
        "    stack = Stack()\n",
        "\n",
        "\n",
        "    for char in s:\n",
        "        stack.push(char)\n",
        "\n",
        "\n",
        "    reversed_string = \"\"\n",
        "    while not stack.is_empty():\n",
        "        reversed_string += stack.pop()\n",
        "\n",
        "    return reversed_string\n",
        "\n",
        "\n",
        "original_string = \"Hello, World!\"\n",
        "reversed_result = reverse_string(original_string)\n",
        "print(f\"Original string: {original_string}\")\n",
        "print(f\"Reversed string: {reversed_result}\")\n"
      ]
    },
    {
      "cell_type": "code",
      "source": [
        "#Stack Sort Algorithm:\n",
        "#Implement a stack using a list and sort the elements using only stack operations (i.e., push, pop). You are not allowed to use any other data structures like lists,queues, or arrays to store intermediate elements.\n",
        "\n",
        "class Stack:\n",
        "    def __init__(self):\n",
        "        self.items = []\n",
        "\n",
        "    def push(self, item):\n",
        "        self.items.append(item)\n",
        "\n",
        "    def pop(self):\n",
        "        if not self.is_empty():\n",
        "            return self.items.pop()\n",
        "        return None\n",
        "\n",
        "    def peek(self):\n",
        "        if not self.is_empty():\n",
        "            return self.items[-1]\n",
        "\n",
        "    def is_empty(self):\n",
        "        return len(self.items) == 0\n",
        "\n",
        "    def size(self):\n",
        "        return len(self.items)\n",
        "\n",
        "\n",
        "def sort_stack(input_stack):\n",
        "    temp_stack = Stack()\n",
        "\n",
        "    while not input_stack.is_empty():\n",
        "\n",
        "        temp = input_stack.pop()\n",
        "\n",
        "        while not temp_stack.is_empty() and temp_stack.peek() > temp:\n",
        "\n",
        "            input_stack.push(temp_stack.pop())\n",
        "\n",
        "        temp_stack.push(temp)\n",
        "\n",
        "    while not temp_stack.is_empty():\n",
        "        input_stack.push(temp_stack.pop())\n",
        "\n",
        "\n",
        "# Example usage\n",
        "input_stack = Stack()\n",
        "elements = [34, 3, 31, 98, 92, 23]\n",
        "for element in elements:\n",
        "    input_stack.push(element)\n",
        "\n",
        "print(\"Original Stack:\", input_stack.items)\n",
        "\n",
        "sort_stack(input_stack)\n",
        "print(\"Sorted Stack:\", input_stack.items)\n"
      ],
      "metadata": {
        "colab": {
          "base_uri": "https://localhost:8080/"
        },
        "id": "a8rjVUFQ2cc-",
        "outputId": "5e7514f2-7a68-4086-9da6-6cf530fb04d2"
      },
      "execution_count": 2,
      "outputs": [
        {
          "output_type": "stream",
          "name": "stdout",
          "text": [
            "Original Stack: [34, 3, 31, 98, 92, 23]\n",
            "Sorted Stack: [98, 92, 34, 31, 23, 3]\n"
          ]
        }
      ]
    },
    {
      "cell_type": "code",
      "source": [
        "#Implement a Stack for Queue Operations:\n",
        "# Use two stacks (implemented with lists) to simulate the behavior of a queue.\n",
        "#Implement the following operations: enqueue(x): Add element x to the queue. dequeue(): Remove and return the element at the front of the queue.\n",
        "class QueueUsingStacks:\n",
        "    def __init__(self):\n",
        "        self.stack1 = []\n",
        "        self.stack2 = []\n",
        "\n",
        "    def enqueue(self, x):\n",
        "        self.stack1.append(x)\n",
        "    def dequeue(self):\n",
        "\n",
        "        if not self.stack2:\n",
        "            while self.stack1:\n",
        "                self.stack2.append(self.stack1.pop())\n",
        "\n",
        "        if not self.stack2:\n",
        "            return \"Queue is empty!\"\n",
        "\n",
        "        return self.stack2.pop()\n",
        "# Example usage\n",
        "queue = QueueUsingStacks()\n",
        "queue.enqueue(10)\n",
        "queue.enqueue(20)\n",
        "queue.enqueue(30)\n",
        "\n",
        "print(queue.dequeue())\n",
        "print(queue.dequeue())\n",
        "queue.enqueue(40)\n",
        "print(queue.dequeue())\n",
        "print(queue.dequeue())\n",
        "print(queue.dequeue())\n",
        "\n"
      ],
      "metadata": {
        "colab": {
          "base_uri": "https://localhost:8080/"
        },
        "id": "OqhX35pR21AM",
        "outputId": "78c846f8-e7f1-4cfe-d4ab-aadef812a9b7"
      },
      "execution_count": 6,
      "outputs": [
        {
          "output_type": "stream",
          "name": "stdout",
          "text": [
            "10\n",
            "20\n",
            "30\n",
            "40\n",
            "Queue is empty!\n"
          ]
        }
      ]
    },
    {
      "cell_type": "code",
      "source": [
        "#Undo/Redo Operation with Stack:\n",
        "# Implement an undo/redo system using two stacks. One stack will hold the history of actions (for undo), and another stack will hold the actions that were undone (for redo). The stack should be able to support undo() and redo() operations.\n",
        "\n",
        "class UndoRedoSystem:\n",
        "    def __init__(self):\n",
        "        self.undo_stack = []\n",
        "        self.redo_stack = []\n",
        "\n",
        "    def perform_action(self, action):\n",
        "        self.undo_stack.append(action)\n",
        "        self.redo_stack.clear()\n",
        "\n",
        "    def undo(self):\n",
        "        if not self.undo_stack:\n",
        "            return \"No actions to undo!\"\n",
        "        action = self.undo_stack.pop()\n",
        "        self.redo_stack.append(action)\n",
        "        return f\"Undone: {action}\"\n",
        "\n",
        "    def redo(self):\n",
        "        if not self.redo_stack:\n",
        "            return \"No actions to redo!\"\n",
        "        action = self.redo_stack.pop()\n",
        "        self.undo_stack.append(action)\n",
        "        return f\"Redone: {action}\"\n",
        "\n",
        "# Example usage\n",
        "system = UndoRedoSystem()\n",
        "system.perform_action(\"Write code\")\n",
        "system.perform_action(\"Save file\")\n",
        "system.perform_action(\"Compile program\")\n",
        "\n",
        "print(system.undo())\n",
        "print(system.undo())\n",
        "print(system.redo())\n",
        "print(system.perform_action(\"Run program\"))\n",
        "print(system.redo())\n"
      ],
      "metadata": {
        "colab": {
          "base_uri": "https://localhost:8080/"
        },
        "id": "Of0wLsZN3vEo",
        "outputId": "c1fb07b7-d6a6-434f-a5e0-114a68d06c26"
      },
      "execution_count": 7,
      "outputs": [
        {
          "output_type": "stream",
          "name": "stdout",
          "text": [
            "Undone: Compile program\n",
            "Undone: Save file\n",
            "Redone: Save file\n",
            "None\n",
            "No actions to redo!\n"
          ]
        }
      ]
    },
    {
      "cell_type": "code",
      "source": [
        "#Implement a Stack that Supports Getting the Middle Element:\n",
        "#• Implement a stack using a list that supports the following operations:\n",
        "#o push(x): Push an element onto the stack.\n",
        "#o pop(): Remove the element at the top of the stack.\n",
        "# get_middle(): Return the middle element of the stack. If the stack has an even\n",
        "#number of elements, return the lower of the two middle elements\n",
        "\n",
        "class StackWithMiddle:\n",
        "    def __init__(self):\n",
        "        self.stack = []\n",
        "    def push(self, x):\n",
        "        self.stack.append(x)\n",
        "\n",
        "    def pop(self):\n",
        "        if not self.stack:\n",
        "            return \"Stack is empty!\"\n",
        "        return self.stack.pop()\n",
        "\n",
        "    def get_middle(self):\n",
        "        if not self.stack:\n",
        "            return \"Stack is empty!\"\n",
        "\n",
        "        middle_index = (len(self.stack) - 1) // 2\n",
        "        return self.stack[middle_index]\n",
        "\n",
        "# Example usage\n",
        "stack = StackWithMiddle()\n",
        "stack.push(10)\n",
        "stack.push(20)\n",
        "stack.push(30)\n",
        "stack.push(40)\n",
        "stack.push(50)\n",
        "\n",
        "print(stack.get_middle())\n",
        "stack.pop()\n",
        "print(stack.get_middle())\n",
        "stack.push(60)\n",
        "stack.push(70)\n",
        "print(stack.get_middle())\n"
      ],
      "metadata": {
        "colab": {
          "base_uri": "https://localhost:8080/"
        },
        "id": "2IlMM3Y64Tuq",
        "outputId": "feafe50a-5797-498f-fed7-77ec1cf2d4fb"
      },
      "execution_count": 8,
      "outputs": [
        {
          "output_type": "stream",
          "name": "stdout",
          "text": [
            "30\n",
            "20\n",
            "30\n"
          ]
        }
      ]
    },
    {
      "cell_type": "code",
      "source": [
        "#Remove Duplicates from a Stack:\n",
        "#Implement a function that removes all duplicate elements from a stack. The stack\n",
        "#is represented as a list, and the function should ensure the stack contains only unique\n",
        "#elements in the order they first appeared.\n",
        "\n",
        "def remove_duplicates_from_stack(stack):\n",
        "    unique_elements = set()\n",
        "    result_stack = []\n",
        "\n",
        "    while stack:\n",
        "        element = stack.pop()\n",
        "        if element not in unique_elements:\n",
        "            unique_elements.add(element)\n",
        "            result_stack.append(element)\n",
        "\n",
        "    while result_stack:\n",
        "        stack.append(result_stack.pop())\n",
        "\n",
        "    return stack\n",
        "\n",
        "stack = [10, 20, 20, 30, 40, 30, 50, 10]\n",
        "print(\"Original stack:\", stack)\n",
        "stack = remove_duplicates_from_stack(stack)\n",
        "print(\"Stack after removing duplicates:\", stack)\n"
      ],
      "metadata": {
        "colab": {
          "base_uri": "https://localhost:8080/"
        },
        "id": "CHbW2-XK42zx",
        "outputId": "ca4084b6-a4a6-4f64-9e2c-b08340a692e0"
      },
      "execution_count": 9,
      "outputs": [
        {
          "output_type": "stream",
          "name": "stdout",
          "text": [
            "Original stack: [10, 20, 20, 30, 40, 30, 50, 10]\n",
            "Stack after removing duplicates: [20, 40, 30, 50, 10]\n"
          ]
        }
      ]
    },
    {
      "cell_type": "code",
      "source": [
        "#implement Stack with Two Queues:\n",
        "# Using two queues (represented by lists), implement a stack. Implement the\n",
        "#following stack operations:\n",
        "#push(x): Add element x to the stack.\n",
        "# pop(): Remove and return the top element from the stack.\n",
        "#peek(): Return the top element without removing it.\n",
        "#is_empty(): Return whether the stack is empty.\n",
        "\n",
        "\n",
        "class StackWithTwoQueues:\n",
        "    def __init__(self):\n",
        "        self.queue1 = []\n",
        "        self.queue2 = []\n",
        "\n",
        "    def push(self, x):\n",
        "\n",
        "        self.queue1.append(x)\n",
        "\n",
        "    def pop(self):\n",
        "        if self.is_empty():\n",
        "            return \"Stack is empty!\"\n",
        "\n",
        "        while len(self.queue1) > 1:\n",
        "            self.queue2.append(self.queue1.pop(0))\n",
        "\n",
        "        top_element = self.queue1.pop(0)\n",
        "\n",
        "        self.queue1, self.queue2 = self.queue2, self.queue1\n",
        "\n",
        "        return top_element\n",
        "\n",
        "    def peek(self):\n",
        "        if self.is_empty():\n",
        "            return \"Stack is empty!\"\n",
        "\n",
        "        while len(self.queue1) > 1:\n",
        "            self.queue2.append(self.queue1.pop(0))\n",
        "\n",
        "        top_element = self.queue1[0]\n",
        "\n",
        "        self.queue2.append(self.queue1.pop(0))\n",
        "\n",
        "        self.queue1, self.queue2 = self.queue2, self.queue1\n",
        "\n",
        "        return top_element\n",
        "\n",
        "    def is_empty(self):\n",
        "\n",
        "        return len(self.queue1) == 0\n",
        "\n",
        "\n",
        "stack = StackWithTwoQueues()\n",
        "stack.push(10)\n",
        "stack.push(20)\n",
        "stack.push(30)\n",
        "\n",
        "print(stack.peek())\n",
        "print(stack.pop())\n",
        "print(stack.pop())\n",
        "print(stack.is_empty())\n",
        "print(stack.pop())\n",
        "print(stack.is_empty())\n"
      ],
      "metadata": {
        "colab": {
          "base_uri": "https://localhost:8080/"
        },
        "id": "Hs_1eani5Fly",
        "outputId": "1fa187fe-f592-4d07-f97f-f49c43ff9939"
      },
      "execution_count": 10,
      "outputs": [
        {
          "output_type": "stream",
          "name": "stdout",
          "text": [
            "30\n",
            "30\n",
            "20\n",
            "False\n",
            "10\n",
            "True\n"
          ]
        }
      ]
    }
  ]
}
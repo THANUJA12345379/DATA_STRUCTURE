{
  "nbformat": 4,
  "nbformat_minor": 0,
  "metadata": {
    "colab": {
      "provenance": []
    },
    "kernelspec": {
      "name": "python3",
      "display_name": "Python 3"
    },
    "language_info": {
      "name": "python"
    }
  },
  "cells": [
    {
      "cell_type": "code",
      "execution_count": null,
      "metadata": {
        "colab": {
          "base_uri": "https://localhost:8080/"
        },
        "id": "WJyQ0uBi_U9f",
        "outputId": "76831fad-9e96-4da0-dc6d-a20b1656cfc5"
      },
      "outputs": [
        {
          "output_type": "stream",
          "name": "stdout",
          "text": [
            "10\n",
            "10\n",
            "20\n",
            "False\n",
            "30\n",
            "True\n"
          ]
        }
      ],
      "source": [
        " #Queue using Two Stacks (Array or List-based):\n",
        "#Implement a queue using two stacks. The queue should support the following operations:\n",
        "#enqueue(x): Add element x to the queue.\n",
        "#dequeue(): Remove and return the element at the front of the queue.\n",
        "#peek(): Return the front element without removing it.\n",
        "#is_empty(): Check if the queue is empty.\n",
        "#(Hint: You can implement this by using two stacks for enqueue and dequeue\n",
        "#operations.)\n",
        "class QueueUsingTwoStacks:\n",
        "    def __init__(self):\n",
        "        self.stack_enqueue = []  # Stack used for enqueue operation\n",
        "        self.stack_dequeue = []  # Stack used for dequeue and peek\n",
        "\n",
        "    def enqueue(self, x):\n",
        "        self.stack_enqueue.append(x)\n",
        "\n",
        "    def dequeue(self):\n",
        "        if self.is_empty():\n",
        "            raise IndexError(\"dequeue from empty queue\")\n",
        "        self._transfer_if_needed()\n",
        "        return self.stack_dequeue.pop()\n",
        "\n",
        "    def peek(self):\n",
        "        if self.is_empty():\n",
        "            raise IndexError(\"peek from empty queue\")\n",
        "        self._transfer_if_needed()\n",
        "        return self.stack_dequeue[-1]\n",
        "\n",
        "    def is_empty(self):\n",
        "        return not self.stack_enqueue and not self.stack_dequeue\n",
        "\n",
        "    def _transfer_if_needed(self):\n",
        "        \"\"\"Transfer elements from enqueue stack to dequeue stack if needed\"\"\"\n",
        "        if not self.stack_dequeue:\n",
        "            while self.stack_enqueue:\n",
        "                self.stack_dequeue.append(self.stack_enqueue.pop())\n",
        "\n",
        "# Example usage:\n",
        "q = QueueUsingTwoStacks()\n",
        "q.enqueue(10)\n",
        "q.enqueue(20)\n",
        "q.enqueue(30)\n",
        "print(q.peek())      # Output: 10\n",
        "print(q.dequeue())   # Output: 10\n",
        "print(q.dequeue())   # Output: 20\n",
        "print(q.is_empty())  # Output: False\n",
        "print(q.dequeue())   # Output: 30\n",
        "print(q.is_empty())  # Output: True\n",
        "\n"
      ]
    },
    {
      "cell_type": "code",
      "source": [
        " #Reverse a Queue Using Recursion:\n",
        "#Implement a queue using a linked list (or array) and write a function to reverse the\n",
        "#elements of the queue using recursion. You should only use the basic queue operationslike enqueue and dequeue\n",
        "\n",
        "from collections import deque\n",
        "\n",
        "class Queue:\n",
        "    def __init__(self):\n",
        "        self.items = deque()\n",
        "\n",
        "    def enqueue(self, item):\n",
        "        self.items.append(item)  # Add to the rear\n",
        "\n",
        "    def dequeue(self):\n",
        "        if self.is_empty():\n",
        "            raise IndexError(\"dequeue from empty queue\")\n",
        "        return self.items.popleft()  # Remove from the front\n",
        "\n",
        "    def is_empty(self):\n",
        "        return len(self.items) == 0\n",
        "\n",
        "    def front(self):\n",
        "        if self.is_empty():\n",
        "            raise IndexError(\"front from empty queue\")\n",
        "        return self.items[0]\n",
        "\n",
        "    def display(self):\n",
        "        print(list(self.items))\n",
        "\n",
        "# Recursive function to reverse the queue\n",
        "def reverse_queue(queue):\n",
        "    if queue.is_empty():\n",
        "        return\n",
        "    item = queue.dequeue()\n",
        "    reverse_queue(queue)\n",
        "    queue.enqueue(item)\n",
        "\n",
        "# Example usage:\n",
        "q = Queue()\n",
        "q.enqueue(1)\n",
        "q.enqueue(2)\n",
        "q.enqueue(3)\n",
        "q.enqueue(4)\n",
        "\n",
        "print(\"Original queue:\")\n",
        "q.display()\n",
        "\n",
        "reverse_queue(q)\n",
        "\n",
        "print(\"Reversed queue:\")\n",
        "q.display()\n"
      ],
      "metadata": {
        "colab": {
          "base_uri": "https://localhost:8080/"
        },
        "id": "W-54WGqa_zKL",
        "outputId": "9c604731-7277-438b-bcdd-c948314fc927"
      },
      "execution_count": null,
      "outputs": [
        {
          "output_type": "stream",
          "name": "stdout",
          "text": [
            "Original queue:\n",
            "[1, 2, 3, 4]\n",
            "Reversed queue:\n",
            "[4, 3, 2, 1]\n"
          ]
        }
      ]
    },
    {
      "cell_type": "code",
      "source": [
        "#Design a Queue that Supports max() Operation:\n",
        "#Implement a queue using an array or linked list that supports the enqueue(x),\n",
        "#dequeue(), and max() operations. The max() operation should return the maximum\n",
        "#element in the queue in constant time (O(1))\n",
        "\n",
        "from collections import deque\n",
        "\n",
        "class MaxQueue:\n",
        "    def __init__(self):\n",
        "        self.queue = deque()\n",
        "        self.max_deque = deque()  # Helper deque for max values\n",
        "\n",
        "    def enqueue(self, x):\n",
        "        self.queue.append(x)\n",
        "\n",
        "        # Maintain decreasing order in max_deque\n",
        "        while self.max_deque and self.max_deque[-1] < x:\n",
        "            self.max_deque.pop()\n",
        "        self.max_deque.append(x)\n",
        "\n",
        "    def dequeue(self):\n",
        "        if not self.queue:\n",
        "            raise IndexError(\"dequeue from empty queue\")\n",
        "        item = self.queue.popleft()\n",
        "\n",
        "        if item == self.max_deque[0]:\n",
        "            self.max_deque.popleft()\n",
        "        return item\n",
        "\n",
        "    def max(self):\n",
        "        if not self.max_deque:\n",
        "            raise IndexError(\"max from empty queue\")\n",
        "        return self.max_deque[0]\n",
        "\n",
        "    def is_empty(self):\n",
        "        return not self.queue\n",
        "\n",
        "    def display(self):\n",
        "        print(\"Queue:\", list(self.queue))\n",
        "        print(\"Max Queue:\", list(self.max_deque))\n",
        "\n",
        "# Example usage\n",
        "q = MaxQueue()\n",
        "q.enqueue(1)\n",
        "q.enqueue(3)\n",
        "q.enqueue(2)\n",
        "q.display()\n",
        "print(\"Current max:\", q.max())  # Output: 3\n",
        "q.dequeue()\n",
        "print(\"After one dequeue:\")\n",
        "q.display()\n",
        "print(\"Current max:\", q.max())  # Output: 3\n",
        "q.dequeue()\n",
        "print(\"After another dequeue:\")\n",
        "q.display()\n",
        "print(\"Current max:\", q.max())  # Output: 2\n"
      ],
      "metadata": {
        "colab": {
          "base_uri": "https://localhost:8080/"
        },
        "id": "rCxi_obDAIox",
        "outputId": "db975758-b050-49e6-f083-dbc7ad197298"
      },
      "execution_count": null,
      "outputs": [
        {
          "output_type": "stream",
          "name": "stdout",
          "text": [
            "Queue: [1, 3, 2]\n",
            "Max Queue: [3, 2]\n",
            "Current max: 3\n",
            "After one dequeue:\n",
            "Queue: [3, 2]\n",
            "Max Queue: [3, 2]\n",
            "Current max: 3\n",
            "After another dequeue:\n",
            "Queue: [2]\n",
            "Max Queue: [2]\n",
            "Current max: 2\n"
          ]
        }
      ]
    },
    {
      "cell_type": "code",
      "source": [
        "#Merge Two Queues:\n",
        "#Given two queues, merge them into a single queue by alternating elements from each queue. For example, if queue1 = [1, 3, 5] and queue2 = [2, 4, 6], the merged\n",
        "#queue should be [1, 2, 3, 4, 5, 6]\n",
        "\n",
        "from collections import deque\n",
        "\n",
        "def merge_queues_alternating(q1, q2):\n",
        "    merged = deque()\n",
        "\n",
        "    while q1 or q2:\n",
        "        if q1:\n",
        "            merged.append(q1.popleft())\n",
        "        if q2:\n",
        "            merged.append(q2.popleft())\n",
        "\n",
        "    return merged\n",
        "\n",
        "# Example usage:\n",
        "queue1 = deque([1, 3, 5])\n",
        "queue2 = deque([2, 4, 6])\n",
        "\n",
        "merged_queue = merge_queues_alternating(queue1, queue2)\n",
        "print(\"Merged queue:\", list(merged_queue))  # Output: [1, 2, 3, 4, 5, 6]\n"
      ],
      "metadata": {
        "colab": {
          "base_uri": "https://localhost:8080/"
        },
        "id": "ZqRHlGhFAXdV",
        "outputId": "283a48d7-9f4b-48da-def2-306ee58da069"
      },
      "execution_count": 1,
      "outputs": [
        {
          "output_type": "stream",
          "name": "stdout",
          "text": [
            "Merged queue: [1, 2, 3, 4, 5, 6]\n"
          ]
        }
      ]
    },
    {
      "cell_type": "code",
      "source": [
        "#Implement a Queue with Count of Specific Element:\n",
        "#Implement a queue using a list (or array) and write a function that returns the count of\n",
        "#occurrences of a specific element in the queue. For example, if the queue is [1, 2, 3,\n",
        "#2, 2] and the element is 2, the function should return 3.\n",
        "\n",
        "class Queue:\n",
        "    def __init__(self):\n",
        "        self.queue = []\n",
        "\n",
        "    def enqueue(self, item):\n",
        "        self.queue.append(item)\n",
        "\n",
        "    def dequeue(self):\n",
        "        if not self.is_empty():\n",
        "            return self.queue.pop(0)\n",
        "        return None\n",
        "\n",
        "    def is_empty(self):\n",
        "        return len(self.queue) == 0\n",
        "\n",
        "    def count_element(self, element):\n",
        "        return self.queue.count(element)\n",
        "\n",
        "    def display(self):\n",
        "        print(\"Queue:\", self.queue)\n",
        "\n",
        "\n",
        "# Example usage:\n",
        "q = Queue()\n",
        "q.enqueue(1)\n",
        "q.enqueue(2)\n",
        "q.enqueue(3)\n",
        "q.enqueue(2)\n",
        "q.enqueue(2)\n",
        "\n",
        "q.display()\n",
        "\n",
        "# Count occurrences of 2\n",
        "element_to_count = 2\n",
        "print(f\"Count of {element_to_count}:\", q.count_element(element_to_count))\n"
      ],
      "metadata": {
        "id": "0LZwFWEoApxF",
        "colab": {
          "base_uri": "https://localhost:8080/"
        },
        "outputId": "f33dd6c8-91e8-4087-f654-07ada3f8d38e"
      },
      "execution_count": 2,
      "outputs": [
        {
          "output_type": "stream",
          "name": "stdout",
          "text": [
            "Queue: [1, 2, 3, 2, 2]\n",
            "Count of 2: 3\n"
          ]
        }
      ]
    },
    {
      "cell_type": "code",
      "source": [
        "#Implement a Queue to Reverse Words in a Sentence:\n",
        "#Write a function that takes a sentence as input, splits the sentence into words, and theuses a queue to reverse the order of the words. For example, for the input \"HelloWorld\", the output should be \"World Hello\n",
        "\n",
        "class Queue:\n",
        "    def __init__(self):\n",
        "        self.queue = []\n",
        "\n",
        "    def enqueue(self, item):\n",
        "        self.queue.append(item)\n",
        "\n",
        "    def dequeue(self):\n",
        "        if not self.is_empty():\n",
        "            return self.queue.pop(0)\n",
        "\n",
        "    def is_empty(self):\n",
        "        return len(self.queue) == 0\n",
        "\n",
        "    def reverse(self):\n",
        "        return self.queue[::-1]\n",
        "\n",
        "    def display(self):\n",
        "        print(\"Queue:\", self.queue)\n",
        "\n",
        "\n",
        "def reverse_sentence(sentence):\n",
        "    words = sentence.split()\n",
        "    q = Queue()\n",
        "    for word in words:\n",
        "        q.enqueue(word)\n",
        "\n",
        "    reversed_words = q.reverse()\n",
        "    return ' '.join(reversed_words)\n",
        "\n",
        "\n",
        "# Example usage:\n",
        "sentence = \"Hello World\"\n",
        "reversed_sentence = reverse_sentence(sentence)\n",
        "print(\"Reversed Sentence:\", reversed_sentence)\n"
      ],
      "metadata": {
        "colab": {
          "base_uri": "https://localhost:8080/"
        },
        "id": "5Uv6DP9HYWKc",
        "outputId": "0a3cb5bd-27d9-4970-acda-1bf1c8ada9b1"
      },
      "execution_count": 3,
      "outputs": [
        {
          "output_type": "stream",
          "name": "stdout",
          "text": [
            "Reversed Sentence: World Hello\n"
          ]
        }
      ]
    },
    {
      "cell_type": "code",
      "source": [
        "#Implement a Queue that Supports contains(x) Operation: Implement a queue using a list (or linked list) that supports the enqueue(x),dequeue(), and contains(x) operations. The contains(x) operation should checkwhether a given element x exists in the queue.\n",
        "\n",
        "class Queue:\n",
        "    def __init__(self):\n",
        "        self.queue = []\n",
        "\n",
        "    def enqueue(self, item):\n",
        "        self.queue.append(item)\n",
        "\n",
        "    def dequeue(self):\n",
        "        if not self.is_empty():\n",
        "            return self.queue.pop(0)\n",
        "        return None\n",
        "\n",
        "    def is_empty(self):\n",
        "        return len(self.queue) == 0\n",
        "\n",
        "    def contains(self, item):\n",
        "        return item in self.queue\n",
        "\n",
        "    def display(self):\n",
        "        print(\"Queue:\", self.queue)\n",
        "\n",
        "\n",
        "# Example usage:\n",
        "q = Queue()\n",
        "q.enqueue(10)\n",
        "q.enqueue(20)\n",
        "q.enqueue(30)\n",
        "\n",
        "q.display()\n",
        "\n",
        "print(\"Contains 20?\", q.contains(20))  # True\n",
        "print(\"Contains 40?\", q.contains(40))  # False\n",
        "\n",
        "q.dequeue()\n",
        "q.display()\n"
      ],
      "metadata": {
        "colab": {
          "base_uri": "https://localhost:8080/"
        },
        "id": "PqgLqHz0YvqA",
        "outputId": "538e751d-1664-4c03-b74b-c426b31bf5e8"
      },
      "execution_count": 4,
      "outputs": [
        {
          "output_type": "stream",
          "name": "stdout",
          "text": [
            "Queue: [10, 20, 30]\n",
            "Contains 20? True\n",
            "Contains 40? False\n",
            "Queue: [20, 30]\n"
          ]
        }
      ]
    }
  ]
}
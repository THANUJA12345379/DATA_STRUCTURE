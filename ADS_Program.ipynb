{
  "nbformat": 4,
  "nbformat_minor": 0,
  "metadata": {
    "colab": {
      "provenance": []
    },
    "kernelspec": {
      "name": "python3",
      "display_name": "Python 3"
    },
    "language_info": {
      "name": "python"
    }
  },
  "cells": [
    {
      "cell_type": "code",
      "execution_count": 1,
      "metadata": {
        "colab": {
          "base_uri": "https://localhost:8080/"
        },
        "id": "g7iYVVuX5v7a",
        "outputId": "6aa3fd70-2a38-48f9-c847-88c5570d9f9e"
      },
      "outputs": [
        {
          "output_type": "stream",
          "name": "stdout",
          "text": [
            "Original Stack: [1, 2, 3, 4, 5]\n",
            "Reversed Stack: [5, 4, 3, 2, 1]\n"
          ]
        }
      ],
      "source": [
        "\n",
        "#reverse an element in stack\n",
        "def insert_at_bottom(stack, item):\n",
        "    if not stack:\n",
        "        stack.append(item)\n",
        "    else:\n",
        "        temp = stack.pop()\n",
        "        insert_at_bottom(stack, item)\n",
        "        stack.append(temp)\n",
        "\n",
        "\n",
        "def reverse_stack(stack):\n",
        "    if stack:\n",
        "        temp = stack.pop()\n",
        "        reverse_stack(stack)\n",
        "        insert_at_bottom(stack, temp)\n",
        "\n",
        "\n",
        "if __name__ == \"__main__\":\n",
        "    stack = [1, 2, 3, 4, 5]\n",
        "    print(\"Original Stack:\", stack)\n",
        "    reverse_stack(stack)\n",
        "    print(\"Reversed Stack:\", stack)\n",
        "\n"
      ]
    },
    {
      "cell_type": "code",
      "source": [
        "# sort the elements in decending order without using built in function of sort\n",
        "def bubble_sort_descending(arr):\n",
        "    n = len(arr)\n",
        "    for i in range(n):\n",
        "        for j in range(0, n - i - 1):\n",
        "            if arr[j] < arr[j + 1]:\n",
        "                arr[j], arr[j + 1] = arr[j + 1], arr[j]\n",
        "    return arr\n",
        "\n",
        "\n",
        "if __name__ == \"__main__\":\n",
        "    numbers = [5, 3, 8, 6, 7, 2]\n",
        "    print(\"Original List:\", numbers)\n",
        "    sorted_numbers = bubble_sort_descending(numbers)\n",
        "    print(\"Sorted List in Descending Order:\", sorted_numbers)\n"
      ],
      "metadata": {
        "colab": {
          "base_uri": "https://localhost:8080/"
        },
        "id": "2DlDE-1e6A21",
        "outputId": "2c08baf6-47f2-496a-c9e2-32975c5005a0"
      },
      "execution_count": 3,
      "outputs": [
        {
          "output_type": "stream",
          "name": "stdout",
          "text": [
            "Original List: [5, 3, 8, 6, 7, 2]\n",
            "Sorted List in Descending Order: [8, 7, 6, 5, 3, 2]\n"
          ]
        }
      ]
    },
    {
      "cell_type": "code",
      "source": [
        "# Function to find the minimum element without using min()\n",
        "def find_minimum(stack):\n",
        "    if not stack:\n",
        "        return \"The stack is empty.\"\n",
        "    minimum = stack[0]\n",
        "    for element in stack:\n",
        "        if element < minimum:\n",
        "            minimum = element\n",
        "    return minimum\n",
        "\n",
        "# Example usage\n",
        "if __name__ == \"__main__\":\n",
        "    stack = [3, 5, 2, 8, 1]\n",
        "    print(\"Stack:\", stack)\n",
        "    minimum = find_minimum(stack)\n",
        "    print(\"Minimum element in the stack:\", minimum)\n"
      ],
      "metadata": {
        "colab": {
          "base_uri": "https://localhost:8080/"
        },
        "id": "E1NywKWc6PKd",
        "outputId": "ac490aca-24cc-4b2a-caef-9aca4f8b7cfc"
      },
      "execution_count": 2,
      "outputs": [
        {
          "output_type": "stream",
          "name": "stdout",
          "text": [
            "Stack: [3, 5, 2, 8, 1]\n",
            "Minimum element in the stack: 1\n"
          ]
        }
      ]
    }
  ]
}